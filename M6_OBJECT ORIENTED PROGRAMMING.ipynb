{
 "cells": [
  {
   "cell_type": "markdown",
   "metadata": {},
   "source": [
    "# H1-Creating and Instantiating a Class"
   ]
  },
  {
   "cell_type": "markdown",
   "metadata": {},
   "source": [
    "### Creating a Class"
   ]
  },
  {
   "cell_type": "code",
   "execution_count": 4,
   "metadata": {},
   "outputs": [],
   "source": [
    "# membuat class\n",
    "class Mobil():\n",
    "    pass"
   ]
  },
  {
   "cell_type": "markdown",
   "metadata": {},
   "source": [
    "### Creating an Instance"
   ]
  },
  {
   "cell_type": "code",
   "execution_count": 5,
   "metadata": {},
   "outputs": [
    {
     "name": "stdout",
     "output_type": "stream",
     "text": [
      "<__main__.mobil object at 0x0000004C77056DC8>\n"
     ]
    }
   ],
   "source": [
    "# menginstansi sebuah objek dari class\n",
    "class Mobil():\n",
    "    pass\n",
    "\n",
    "ford = Mobil()\n",
    "print(ford)"
   ]
  },
  {
   "cell_type": "markdown",
   "metadata": {},
   "source": [
    "### Creating Multiple Instances"
   ]
  },
  {
   "cell_type": "code",
   "execution_count": 6,
   "metadata": {},
   "outputs": [
    {
     "name": "stdout",
     "output_type": "stream",
     "text": [
      "-9223372016328876672\n",
      "-9223372016328876668\n"
     ]
    }
   ],
   "source": [
    "# menginstansi multiple object dari class yang sama\n",
    "class Mobil():\n",
    "    pass\n",
    "\n",
    "ford = Mobil()\n",
    "subaru = Mobil()\n",
    "\n",
    "# melihat lokasi penyimpanan variabel instansi menggunakan fungsi hash()\n",
    "print(hash(ford))\n",
    "print(hash(subaru))"
   ]
  },
  {
   "cell_type": "markdown",
   "metadata": {},
   "source": [
    "### Latihan H1"
   ]
  },
  {
   "cell_type": "code",
   "execution_count": 7,
   "metadata": {},
   "outputs": [],
   "source": [
    "# 1. Animal:\n",
    "class Binatang():\n",
    "    pass\n",
    "\n",
    "singa = Binatang()\n",
    "harimau = Binatang()"
   ]
  },
  {
   "cell_type": "code",
   "execution_count": 8,
   "metadata": {},
   "outputs": [],
   "source": [
    "# 2. Problem-Solving:\n",
    "class Bus():\n",
    "    pass\n",
    "bus_sekolah = Bus()"
   ]
  },
  {
   "cell_type": "markdown",
   "metadata": {},
   "source": [
    "# H2-Attributes"
   ]
  },
  {
   "cell_type": "markdown",
   "metadata": {},
   "source": [
    "### Declaring and Accessing Attributes"
   ]
  },
  {
   "cell_type": "code",
   "execution_count": 11,
   "metadata": {},
   "outputs": [
    {
     "name": "stdout",
     "output_type": "stream",
     "text": [
      "merah\n"
     ]
    }
   ],
   "source": [
    "# mendefinisikan class attribute\n",
    "class Mobil():\n",
    "    bunyi = 'beep'\n",
    "    warna = 'merah'\n",
    "\n",
    "ford = Mobil()\n",
    "print(ford.warna)"
   ]
  },
  {
   "cell_type": "markdown",
   "metadata": {},
   "source": [
    "### Changing an Instance Attributes"
   ]
  },
  {
   "cell_type": "code",
   "execution_count": 12,
   "metadata": {},
   "outputs": [
    {
     "name": "stdout",
     "output_type": "stream",
     "text": [
      "beep\n",
      "honk\n"
     ]
    }
   ],
   "source": [
    "# mengubah nilai suatu attribute\n",
    "class Mobil():\n",
    "    bunyi = 'beep'\n",
    "    warna = 'merah'\n",
    "\n",
    "ford = Mobil()\n",
    "print(ford.bunyi)\n",
    "\n",
    "ford.bunyi = 'honk'\n",
    "print(ford.bunyi)"
   ]
  },
  {
   "cell_type": "markdown",
   "metadata": {},
   "source": [
    "### Using the __init__() Method"
   ]
  },
  {
   "cell_type": "code",
   "execution_count": 14,
   "metadata": {},
   "outputs": [
    {
     "name": "stdout",
     "output_type": "stream",
     "text": [
      "biru\n"
     ]
    }
   ],
   "source": [
    "# menggunakan init method untuk memberikan personal instance\n",
    "class Mobil():\n",
    "    def __init__(self, warna):\n",
    "        self.warna = warna\n",
    "\n",
    "ford = Mobil('biru')\n",
    "print(ford.warna)"
   ]
  },
  {
   "cell_type": "markdown",
   "metadata": {},
   "source": [
    "### Instantiating Multiple Objects with __init__()"
   ]
  },
  {
   "cell_type": "code",
   "execution_count": 16,
   "metadata": {},
   "outputs": [
    {
     "name": "stdout",
     "output_type": "stream",
     "text": [
      "biru 2016\n",
      "merah 2018\n"
     ]
    }
   ],
   "source": [
    "# mendifinisikan nilai yang berbeda untuk multiple instances\n",
    "class Mobil():\n",
    "    def __init__(self, warna, tahun):\n",
    "        self.warna = warna\n",
    "        self.tahun = tahun\n",
    "\n",
    "ford = Mobil('biru', 2016)\n",
    "subaru = Mobil('merah', 2018)\n",
    "\n",
    "print(ford.warna, ford.tahun)\n",
    "print(subaru.warna, subaru.tahun)"
   ]
  },
  {
   "cell_type": "markdown",
   "metadata": {},
   "source": [
    "### Global Attributes vs Instance Attributes"
   ]
  },
  {
   "cell_type": "code",
   "execution_count": 38,
   "metadata": {},
   "outputs": [
    {
     "name": "stdout",
     "output_type": "stream",
     "text": [
      "beep\n"
     ]
    }
   ],
   "source": [
    "# menggunakan dan mengakses global class atribute\n",
    "class Mobil():\n",
    "    bunyi = 'beep'\n",
    "    def __init__(self, warna):\n",
    "        self.warna = 'biru'\n",
    "        \n",
    "print(Mobil.bunyi)\n",
    "# print(Mobil.warna)    # tidak bisa, karena hanya ada di instansi class Mobil()"
   ]
  },
  {
   "cell_type": "code",
   "execution_count": 18,
   "metadata": {},
   "outputs": [
    {
     "name": "stdout",
     "output_type": "stream",
     "text": [
      "beep biru\n"
     ]
    }
   ],
   "source": [
    "# untuk mengakses warna harus melailui instance\n",
    "ford = Mobil('biru')\n",
    "print(ford.bunyi, ford.warna)"
   ]
  },
  {
   "cell_type": "markdown",
   "metadata": {},
   "source": [
    "### Latihan H2"
   ]
  },
  {
   "cell_type": "code",
   "execution_count": 25,
   "metadata": {},
   "outputs": [
    {
     "name": "stdout",
     "output_type": "stream",
     "text": [
      "Sammi\n",
      "Casey\n"
     ]
    }
   ],
   "source": [
    "# 1. Dogs:\n",
    "class Dog():\n",
    "    species = 'Canine'\n",
    "    def __init__(self, name):\n",
    "        self.name = name\n",
    "        \n",
    "husky = Dog('Sammi')\n",
    "print(husky.name)\n",
    "chocolate_lab = Dog('Casey')\n",
    "print(chocolate_lab.name)"
   ]
  },
  {
   "cell_type": "code",
   "execution_count": 23,
   "metadata": {},
   "outputs": [
    {
     "name": "stdout",
     "output_type": "stream",
     "text": [
      "Masukkan nama anda: vide\n",
      "nama anda adalah vide\n"
     ]
    }
   ],
   "source": [
    "# 2. User Input:\n",
    "nama = input('Masukkan nama anda: ')\n",
    "\n",
    "class Orang():\n",
    "    def __init__(self, name):\n",
    "        self.name = name\n",
    "\n",
    "orang1 = Orang(nama)\n",
    "print('nama anda adalah {}'.format(orang1.name))"
   ]
  },
  {
   "cell_type": "markdown",
   "metadata": {},
   "source": [
    "# H3-Methods"
   ]
  },
  {
   "cell_type": "markdown",
   "metadata": {},
   "source": [
    "### Definiting and Calling a Method"
   ]
  },
  {
   "cell_type": "code",
   "execution_count": 26,
   "metadata": {},
   "outputs": [
    {
     "name": "stdout",
     "output_type": "stream",
     "text": [
      "bark\n"
     ]
    }
   ],
   "source": [
    "# mendefinisikan dan memanggil class method\n",
    "class Dog():\n",
    "    def makeSound(self):\n",
    "        print('bark')\n",
    "\n",
    "sam = Dog()\n",
    "sam.makeSound()"
   ]
  },
  {
   "cell_type": "markdown",
   "metadata": {},
   "source": [
    "### Accessing Class Attributes in Methods"
   ]
  },
  {
   "cell_type": "code",
   "execution_count": 27,
   "metadata": {},
   "outputs": [
    {
     "name": "stdout",
     "output_type": "stream",
     "text": [
      "berk\n"
     ]
    }
   ],
   "source": [
    "# menggunkan selfkeyword untuk mengakses atribut di dalam class method\n",
    "class Dog():\n",
    "    sound = 'berk'\n",
    "    def makeSound(self):\n",
    "        print(self.sound)\n",
    "        \n",
    "sam = Dog()\n",
    "sam.makeSound()"
   ]
  },
  {
   "cell_type": "markdown",
   "metadata": {},
   "source": [
    "### Method Scope"
   ]
  },
  {
   "cell_type": "code",
   "execution_count": 28,
   "metadata": {},
   "outputs": [
    {
     "name": "stdout",
     "output_type": "stream",
     "text": [
      "Saya adalah kucing\n",
      "meow\n"
     ]
    }
   ],
   "source": [
    "# memahami method yang dapat diakses melalui class itself dan class instance\n",
    "class Kucing():\n",
    "    suara = 'meow'\n",
    "    def buatSuara(self):\n",
    "        print(self.suara)\n",
    "    def printInfo():\n",
    "        print('Saya adalah kucing')\n",
    "\n",
    "Kucing.printInfo()    # dapat di akses karena static\n",
    "# Kucing.buatSuara()  # tidak dapat diakses karena bukan static\n",
    "\n",
    "cat = Kucing()\n",
    "cat.buatSuara()       # dapat diakses karena berbentuk instance\n",
    "# cat.printInfo()     # tidak dapat diakses kareana tidak butuh instance"
   ]
  },
  {
   "cell_type": "markdown",
   "metadata": {},
   "source": [
    "### Passing Argument into Methods"
   ]
  },
  {
   "cell_type": "code",
   "execution_count": 29,
   "metadata": {},
   "outputs": [
    {
     "name": "stdout",
     "output_type": "stream",
     "text": [
      "5\n"
     ]
    }
   ],
   "source": [
    "# menulis methods yang menerima parameter\n",
    "class Kucing():\n",
    "    def tampilkanUmur(self, umur):\n",
    "        print(umur)    # tidak memerlukan self, karena ini parameter bukan attribute\n",
    "        \n",
    "cat = Kucing()\n",
    "cat.tampilkanUmur(5)"
   ]
  },
  {
   "cell_type": "markdown",
   "metadata": {},
   "source": [
    "### Using Setters and Getters"
   ]
  },
  {
   "cell_type": "code",
   "execution_count": 30,
   "metadata": {},
   "outputs": [
    {
     "name": "stdout",
     "output_type": "stream",
     "text": [
      "kucet\n"
     ]
    }
   ],
   "source": [
    "# menggunakan method untuk mengembalikan nilai attribute\n",
    "class Kucing():\n",
    "    nama = ''\n",
    "    def setNama(self, nama_baru):\n",
    "        self.nama = nama_baru\n",
    "    def getNama(self):\n",
    "        return self.nama\n",
    "    \n",
    "cat = Kucing()\n",
    "cat.setNama('kucet')\n",
    "print(cat.getNama())"
   ]
  },
  {
   "cell_type": "markdown",
   "metadata": {},
   "source": [
    "### Incrementing Attributes with Methods"
   ]
  },
  {
   "cell_type": "code",
   "execution_count": 32,
   "metadata": {},
   "outputs": [
    {
     "name": "stdout",
     "output_type": "stream",
     "text": [
      "6\n"
     ]
    }
   ],
   "source": [
    "# meningkatkan nilai atribut dengan method\n",
    "class Kucing():\n",
    "    umur = 5\n",
    "    def selamatUltah(self):\n",
    "        self.umur += 1\n",
    "        \n",
    "cat = Kucing()\n",
    "cat.selamatUltah()\n",
    "print(cat.umur)"
   ]
  },
  {
   "cell_type": "markdown",
   "metadata": {},
   "source": [
    "### Methods Calling Methods"
   ]
  },
  {
   "cell_type": "code",
   "execution_count": 33,
   "metadata": {},
   "outputs": [
    {
     "name": "stdout",
     "output_type": "stream",
     "text": [
      "kettiiii!\n"
     ]
    }
   ],
   "source": [
    "# memanggil sebuah class method dari method lain\n",
    "class Kucing():\n",
    "    umur = 6\n",
    "    def getUmur(self):\n",
    "        return self.umur\n",
    "    def printInfo(self):\n",
    "        if self.getUmur() < 10:\n",
    "            print('kettiiii!')\n",
    "\n",
    "cat = Kucing()\n",
    "cat.printInfo()"
   ]
  },
  {
   "cell_type": "markdown",
   "metadata": {},
   "source": [
    "### Magic Methods"
   ]
  },
  {
   "cell_type": "code",
   "execution_count": 34,
   "metadata": {},
   "outputs": [
    {
     "name": "stdout",
     "output_type": "stream",
     "text": [
      "Ini adalah class kucing\n"
     ]
    }
   ],
   "source": [
    "# menggunakan magic method\n",
    "class Kucing():\n",
    "    def __str__(self):\n",
    "        return 'Ini adalah class kucing'\n",
    "    \n",
    "cat = Kucing()\n",
    "print(cat)"
   ]
  },
  {
   "cell_type": "markdown",
   "metadata": {},
   "source": [
    "### Latihan H3"
   ]
  },
  {
   "cell_type": "code",
   "execution_count": 36,
   "metadata": {},
   "outputs": [
    {
     "name": "stdout",
     "output_type": "stream",
     "text": [
      "feline\n"
     ]
    }
   ],
   "source": [
    "# 1. Animals:\n",
    "class Animal():\n",
    "    species = ''\n",
    "    def setSpecies(self, spc):\n",
    "        self.species = spc\n",
    "    def getSpecies(self):\n",
    "        return self.species\n",
    "        \n",
    "lion = Animal()\n",
    "lion.setSpecies('feline')\n",
    "print(lion.getSpecies())"
   ]
  },
  {
   "cell_type": "code",
   "execution_count": 37,
   "metadata": {},
   "outputs": [
    {
     "name": "stdout",
     "output_type": "stream",
     "text": [
      "Masukkan umur anda dalam angka: 75\n",
      "Anda sekarang berumur 75 tahun\n"
     ]
    }
   ],
   "source": [
    "# 2. User Input:\n",
    "class Orang():\n",
    "    umur = 0\n",
    "    def setUmur(self, umr):\n",
    "        self.umur += umr\n",
    "    def getUmur(self):\n",
    "        return self.umur\n",
    "\n",
    "no = int(input('Masukkan umur anda dalam angka: '))\n",
    "keki = Orang()\n",
    "keki.setUmur(no)\n",
    "umur_keki = keki.getUmur()\n",
    "print('Anda sekarang berumur {} tahun'.format(umur_keki))"
   ]
  },
  {
   "cell_type": "markdown",
   "metadata": {},
   "source": [
    "# H4-Inheritance"
   ]
  },
  {
   "cell_type": "markdown",
   "metadata": {},
   "source": [
    "### Inheriting a Class"
   ]
  },
  {
   "cell_type": "code",
   "execution_count": 3,
   "metadata": {},
   "outputs": [
    {
     "name": "stdout",
     "output_type": "stream",
     "text": [
      "roar\n",
      "Canine\n",
      "roar\n"
     ]
    }
   ],
   "source": [
    "# mewariskan suatu class dan mengakses method yang terwariskan\n",
    "class Binatang():\n",
    "    def buatSuara(self):\n",
    "        print('roar')\n",
    "\n",
    "class Anjing(Binatang):\n",
    "    species = 'Canine'\n",
    "\n",
    "# mengakses method buatSuara() dari class Anjing (pewarisan)\n",
    "sam = Anjing()\n",
    "sam.buatSuara()\n",
    "print(sam.species)\n",
    "\n",
    "singa = Binatang()\n",
    "singa.buatSuara()\n",
    "# singa.species     # tidak dapat diakses karena tidak ada atribut species di class binatang"
   ]
  },
  {
   "cell_type": "markdown",
   "metadata": {},
   "source": [
    "### Using the super() Method"
   ]
  },
  {
   "cell_type": "code",
   "execution_count": 4,
   "metadata": {},
   "outputs": [
    {
     "name": "stdout",
     "output_type": "stream",
     "text": [
      "Canine\n"
     ]
    }
   ],
   "source": [
    "# menggunakan the  super() method untuk mendeklarasikan atribute yang diwariskan\n",
    "class Binatang():\n",
    "    def __init__(self, species):\n",
    "        self.species = species\n",
    "\n",
    "class Anjing(Binatang):\n",
    "    def __init__(self, species, nama):\n",
    "        self.nama = nama\n",
    "        super().__init__(species)\n",
    "        \n",
    "sam = Anjing('Canine', 'Sammi')\n",
    "print(sam.species)"
   ]
  },
  {
   "cell_type": "markdown",
   "metadata": {},
   "source": [
    "### Method Overriding"
   ]
  },
  {
   "cell_type": "code",
   "execution_count": 5,
   "metadata": {},
   "outputs": [
    {
     "name": "stdout",
     "output_type": "stream",
     "text": [
      "bark\n",
      "roar\n"
     ]
    }
   ],
   "source": [
    "# overriding method didefinisikan ke dalam superclass\n",
    "class Binatang():\n",
    "    def buatSuara(self):\n",
    "        print('roar')\n",
    "\n",
    "class Anjing(Binatang):\n",
    "    def buatSuara(self):\n",
    "        print('bark')\n",
    "\n",
    "sam, singa = Anjing(), Binatang()\n",
    "sam.buatSuara()\n",
    "singa.buatSuara()"
   ]
  },
  {
   "cell_type": "markdown",
   "metadata": {},
   "source": [
    "### Inheriting Multiple Classes"
   ]
  },
  {
   "cell_type": "code",
   "execution_count": 8,
   "metadata": {},
   "outputs": [
    {
     "name": "stdout",
     "output_type": "stream",
     "text": [
      "9.8 Ford\n"
     ]
    }
   ],
   "source": [
    "# melakukan pewarisan(inhirit) pada multiple class\n",
    "class Fisika():\n",
    "    gravity = 9.8\n",
    "    \n",
    "class Automobile():\n",
    "    def __init__(self, buatan, model, tahun):\n",
    "        self.buatan, self.model, self.tahun = buatan, model, tahun\n",
    "\n",
    "class Ford(Fisika, Automobile):\n",
    "    def __init__(self, model, tahun):\n",
    "        Automobile.__init__(self, 'Ford', model, tahun)\n",
    "        \n",
    "truck = Ford('F-150', 2018)\n",
    "print(truck.gravity, truck.buatan)"
   ]
  },
  {
   "cell_type": "markdown",
   "metadata": {},
   "source": [
    "### Latihan H4"
   ]
  },
  {
   "cell_type": "code",
   "execution_count": null,
   "metadata": {},
   "outputs": [],
   "source": []
  },
  {
   "cell_type": "code",
   "execution_count": null,
   "metadata": {},
   "outputs": [],
   "source": []
  },
  {
   "cell_type": "code",
   "execution_count": null,
   "metadata": {},
   "outputs": [],
   "source": []
  },
  {
   "cell_type": "code",
   "execution_count": null,
   "metadata": {},
   "outputs": [],
   "source": []
  },
  {
   "cell_type": "code",
   "execution_count": null,
   "metadata": {},
   "outputs": [],
   "source": []
  },
  {
   "cell_type": "code",
   "execution_count": null,
   "metadata": {},
   "outputs": [],
   "source": []
  },
  {
   "cell_type": "code",
   "execution_count": null,
   "metadata": {},
   "outputs": [],
   "source": []
  }
 ],
 "metadata": {
  "kernelspec": {
   "display_name": "Python 3",
   "language": "python",
   "name": "python3"
  },
  "language_info": {
   "codemirror_mode": {
    "name": "ipython",
    "version": 3
   },
   "file_extension": ".py",
   "mimetype": "text/x-python",
   "name": "python",
   "nbconvert_exporter": "python",
   "pygments_lexer": "ipython3",
   "version": "3.7.6"
  }
 },
 "nbformat": 4,
 "nbformat_minor": 4
}

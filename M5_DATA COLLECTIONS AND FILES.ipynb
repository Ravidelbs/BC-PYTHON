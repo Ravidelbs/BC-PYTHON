{
 "cells": [
  {
   "cell_type": "markdown",
   "metadata": {},
   "source": [
    "# H1-Dictionaries"
   ]
  },
  {
   "cell_type": "markdown",
   "metadata": {},
   "source": [
    "### Declaring a Dictionary"
   ]
  },
  {
   "cell_type": "code",
   "execution_count": 2,
   "metadata": {},
   "outputs": [
    {
     "name": "stdout",
     "output_type": "stream",
     "text": [
      "{}\n",
      "{'nama': 'vide'}\n",
      "{'nama': 'joko', 'umur': 22}\n"
     ]
    }
   ],
   "source": [
    "# mendeklarasikan sebuah variable dictionary\n",
    "kosong = {}                # dict kosong\n",
    "orang = {'nama': 'vide'}   # dict dengan 1 key/value\n",
    "pelanggan = {\n",
    "    'nama': 'joko',\n",
    "    'umur': 22}            # dict dengan 2 key/value\n",
    "\n",
    "print(kosong)\n",
    "print(orang)\n",
    "print(pelanggan)"
   ]
  },
  {
   "cell_type": "markdown",
   "metadata": {},
   "source": [
    "### Accessing Dictionary Information"
   ]
  },
  {
   "cell_type": "code",
   "execution_count": 3,
   "metadata": {},
   "outputs": [
    {
     "name": "stdout",
     "output_type": "stream",
     "text": [
      "vide\n"
     ]
    }
   ],
   "source": [
    "# mengakses informasi dictionary dengan key\n",
    "orang = {'nama': 'vide'}\n",
    "print(orang['nama'])"
   ]
  },
  {
   "cell_type": "markdown",
   "metadata": {},
   "source": [
    "### Using the Get Method"
   ]
  },
  {
   "cell_type": "code",
   "execution_count": 4,
   "metadata": {},
   "outputs": [
    {
     "name": "stdout",
     "output_type": "stream",
     "text": [
      "vide\n",
      "umur tidak tersedia.\n"
     ]
    }
   ],
   "source": [
    "# menggunakan get method untuk mengakses informasi dictionary\n",
    "orang = {'nama': 'vide'}\n",
    "print(orang.get('nama'))\n",
    "print(orang.get('umur', 'umur tidak tersedia.'))"
   ]
  },
  {
   "cell_type": "markdown",
   "metadata": {},
   "source": [
    "### Dictionary with Lists"
   ]
  },
  {
   "cell_type": "code",
   "execution_count": 5,
   "metadata": {},
   "outputs": [
    {
     "name": "stdout",
     "output_type": "stream",
     "text": [
      "basket\n"
     ]
    }
   ],
   "source": [
    "# menyimpan sebuah list ke dalam dictionary dan mengaksesnya\n",
    "data = {'olahraga': ['sepak bola', 'basket', 'pacu kuda']}\n",
    "print(data['olahraga'][1])"
   ]
  },
  {
   "cell_type": "code",
   "execution_count": 6,
   "metadata": {},
   "outputs": [
    {
     "name": "stdout",
     "output_type": "stream",
     "text": [
      "{'olahraga': ['sepak bola', 'basket', 'pacu kuda']}\n"
     ]
    }
   ],
   "source": [
    "# mengubah sebuah list menjadi dictionary\n",
    "olahraga = ['sepak bola', 'basket', 'pacu kuda']\n",
    "dict_olrga = dict({'olahraga': olahraga})\n",
    "print(dict_olrga)"
   ]
  },
  {
   "cell_type": "markdown",
   "metadata": {},
   "source": [
    "### List with Dictionaries"
   ]
  },
  {
   "cell_type": "code",
   "execution_count": 7,
   "metadata": {},
   "outputs": [
    {
     "name": "stdout",
     "output_type": "stream",
     "text": [
      "{'nama': 'joko'}\n",
      "joko\n"
     ]
    }
   ],
   "source": [
    "# menyimpan sebuah dictionary ke dalam list dan mengaksesnya\n",
    "data = ['zaki', 'vide', {'nama': 'joko'}]\n",
    "print(data[2])\n",
    "print(data[2]['nama'])"
   ]
  },
  {
   "cell_type": "markdown",
   "metadata": {},
   "source": [
    "### Dictionaries with Dictionaries"
   ]
  },
  {
   "cell_type": "code",
   "execution_count": 9,
   "metadata": {},
   "outputs": [
    {
     "name": "stdout",
     "output_type": "stream",
     "text": [
      "{'2002': 12, '2008': 10}\n",
      "10\n"
     ]
    }
   ],
   "source": [
    "# menyimpan sebuah dictionary ke dalam dictionary dan mengaksesnya\n",
    "data ={\n",
    "    'tim': 'badabuih',\n",
    "    'menang': {'2002': 12, '2008': 10}\n",
    "}\n",
    "\n",
    "print(data['menang'])\n",
    "print(data['menang']['2008'])"
   ]
  },
  {
   "cell_type": "markdown",
   "metadata": {},
   "source": [
    "### Latihan H1"
   ]
  },
  {
   "cell_type": "code",
   "execution_count": 10,
   "metadata": {},
   "outputs": [
    {
     "name": "stdout",
     "output_type": "stream",
     "text": [
      "Tuliskan nama anda: vide\n",
      "Tulis angka umur anda: 25\n",
      "{'nama': 'vide', 'umur': 25}\n"
     ]
    }
   ],
   "source": [
    "# 1. User Input:\n",
    "nama = input('Tuliskan nama anda: ')\n",
    "umur = int(input('Tulis angka umur anda: '))\n",
    "\n",
    "data = {'nama': nama, 'umur': umur}\n",
    "print(data)"
   ]
  },
  {
   "cell_type": "code",
   "execution_count": 15,
   "metadata": {},
   "outputs": [
    {
     "name": "stdout",
     "output_type": "stream",
     "text": [
      "komposisinya yaitu: \n",
      "- gula\n",
      "- teh\n",
      "- susu\n",
      "- madu\n",
      "- air\n"
     ]
    }
   ],
   "source": [
    "# 2. Accessing Ingredients:\n",
    "data = {'komposisi': ['gula', 'teh', 'susu', 'madu', 'air']}\n",
    "\n",
    "print('komposisinya yaitu: ')\n",
    "for i in data['komposisi']:\n",
    "    print('-', i)"
   ]
  },
  {
   "cell_type": "markdown",
   "metadata": {},
   "source": [
    "# H2-Working with Dictionaries"
   ]
  },
  {
   "cell_type": "markdown",
   "metadata": {},
   "source": [
    "### Adding New Information"
   ]
  },
  {
   "cell_type": "code",
   "execution_count": 1,
   "metadata": {},
   "outputs": [
    {
     "name": "stdout",
     "output_type": "stream",
     "text": [
      "Ini mobil tahun 2008 berwarna biru\n"
     ]
    }
   ],
   "source": [
    "# menambahkan key/value pada sebuah dictionary\n",
    "mobil = {'tahun': 2008}\n",
    "mobil['warna'] = 'biru'\n",
    "print('Ini mobil tahun {} berwarna {}'.format(mobil['tahun'], mobil['warna']))"
   ]
  },
  {
   "cell_type": "markdown",
   "metadata": {},
   "source": [
    "### Changing Information"
   ]
  },
  {
   "cell_type": "code",
   "execution_count": 3,
   "metadata": {},
   "outputs": [
    {
     "name": "stdout",
     "output_type": "stream",
     "text": [
      "Ini mobil tahun 2008 berwarna merah\n"
     ]
    }
   ],
   "source": [
    "# mengapdate value pada dictionary\n",
    "mobil = {'tahun': 2008, 'warna': 'biru'}\n",
    "mobil['warna'] = 'merah'\n",
    "print('Ini mobil tahun {} berwarna {}'.format(mobil['tahun'], mobil['warna']))"
   ]
  },
  {
   "cell_type": "markdown",
   "metadata": {},
   "source": [
    "### Deleting Information"
   ]
  },
  {
   "cell_type": "code",
   "execution_count": 4,
   "metadata": {},
   "outputs": [
    {
     "name": "stdout",
     "output_type": "stream",
     "text": [
      "{}\n"
     ]
    }
   ],
   "source": [
    "# menghapus key/value pada dictionary\n",
    "mobil = {'tahun': 2018}\n",
    "try:\n",
    "    del mobil['tahun']\n",
    "    print(mobil)\n",
    "except:\n",
    "    print('key tersebut tidak terdapat pada dictionary')"
   ]
  },
  {
   "cell_type": "markdown",
   "metadata": {},
   "source": [
    "### Looping a Dictionary"
   ]
  },
  {
   "cell_type": "code",
   "execution_count": 6,
   "metadata": {},
   "outputs": [
    {
     "name": "stdout",
     "output_type": "stream",
     "text": [
      "nama\n",
      "vide\n",
      "umur\n",
      "25\n"
     ]
    }
   ],
   "source": [
    "# me-looping seluruh key pada dictionary\n",
    "orang = {'nama': 'vide', 'umur': 25}\n",
    "for key in orang.keys():\n",
    "    print(key)\n",
    "    print(orang[key])"
   ]
  },
  {
   "cell_type": "code",
   "execution_count": 7,
   "metadata": {},
   "outputs": [
    {
     "name": "stdout",
     "output_type": "stream",
     "text": [
      "vide\n",
      "25\n"
     ]
    }
   ],
   "source": [
    "# me-looping seluruh value pada dictionary\n",
    "orang = {'nama': 'vide', 'umur': 25}\n",
    "for value in orang.values():\n",
    "    print(value)"
   ]
  },
  {
   "cell_type": "code",
   "execution_count": 8,
   "metadata": {},
   "outputs": [
    {
     "name": "stdout",
     "output_type": "stream",
     "text": [
      "ini key: nama dan ini valuenya: vide\n",
      "ini key: umur dan ini valuenya: 25\n"
     ]
    }
   ],
   "source": [
    "# me-looping seluruh key/value pada dictionary\n",
    "orang = {'nama': 'vide', 'umur': 25}\n",
    "for key, value in orang.items():\n",
    "    print('ini key: {} dan ini valuenya: {}'.format(key, value))"
   ]
  },
  {
   "cell_type": "markdown",
   "metadata": {},
   "source": [
    "### Latihan H2"
   ]
  },
  {
   "cell_type": "code",
   "execution_count": 11,
   "metadata": {},
   "outputs": [
    {
     "name": "stdout",
     "output_type": "stream",
     "text": [
      "Masukkan nama anda: vide\n",
      "Masukkan alamat anda: jakarta\n",
      "Masukkan nomor id anda: 1313131\n",
      "nama \t : Vide\n",
      "alamat \t : Jakarta\n",
      "id \t : 1313131\n"
     ]
    }
   ],
   "source": [
    "# 1. User Input:\n",
    "nama = input('Masukkan nama anda: ').title()\n",
    "alamat = input('Masukkan alamat anda: ').title()\n",
    "no_id = input('Masukkan nomor id anda: ')\n",
    "\n",
    "user = {'nama': nama, 'alamat': alamat, 'id': no_id}\n",
    "for key, value in user.items():\n",
    "    print('{} \\t : {}'.format(key, value))"
   ]
  },
  {
   "cell_type": "code",
   "execution_count": 10,
   "metadata": {},
   "outputs": [
    {
     "name": "stdout",
     "output_type": "stream",
     "text": [
      "vide\n"
     ]
    }
   ],
   "source": [
    "# 2. Problem-Solving:\n",
    "orang = {'nama': 'vide'}\n",
    "print(orang['nama'])"
   ]
  },
  {
   "cell_type": "markdown",
   "metadata": {},
   "source": [
    "# H3-Tuples, Sets, Frozensets"
   ]
  },
  {
   "cell_type": "markdown",
   "metadata": {},
   "source": [
    "### Declaring a Tuple"
   ]
  },
  {
   "cell_type": "code",
   "execution_count": 14,
   "metadata": {},
   "outputs": [
    {
     "name": "stdout",
     "output_type": "stream",
     "text": [
      "<class 'tuple'> <class 'tuple'>\n"
     ]
    }
   ],
   "source": [
    "# membuat contoh tuple\n",
    "t1 = ('hello', 2, 'hello')\n",
    "t2 = True, 1\n",
    "print(type(t1), type(t2))"
   ]
  },
  {
   "cell_type": "code",
   "execution_count": 13,
   "metadata": {},
   "outputs": [
    {
     "ename": "TypeError",
     "evalue": "'tuple' object does not support item assignment",
     "output_type": "error",
     "traceback": [
      "\u001b[1;31m---------------------------------------------------------------------------\u001b[0m",
      "\u001b[1;31mTypeError\u001b[0m                                 Traceback (most recent call last)",
      "\u001b[1;32m<ipython-input-13-b200f1d9d2c9>\u001b[0m in \u001b[0;36m<module>\u001b[1;34m\u001b[0m\n\u001b[0;32m      1\u001b[0m \u001b[1;31m# membuktikan bahwa tuple is immutable\u001b[0m\u001b[1;33m\u001b[0m\u001b[1;33m\u001b[0m\u001b[1;33m\u001b[0m\u001b[0m\n\u001b[1;32m----> 2\u001b[1;33m \u001b[0mt1\u001b[0m\u001b[1;33m[\u001b[0m\u001b[1;36m0\u001b[0m\u001b[1;33m]\u001b[0m \u001b[1;33m=\u001b[0m \u001b[1;36m1\u001b[0m\u001b[1;33m\u001b[0m\u001b[1;33m\u001b[0m\u001b[0m\n\u001b[0m",
      "\u001b[1;31mTypeError\u001b[0m: 'tuple' object does not support item assignment"
     ]
    }
   ],
   "source": [
    "# membuktikan bahwa tuple is immutable\n",
    "t1[0] = 1"
   ]
  },
  {
   "cell_type": "markdown",
   "metadata": {},
   "source": [
    "### Declaring a Set"
   ]
  },
  {
   "cell_type": "code",
   "execution_count": 15,
   "metadata": {},
   "outputs": [
    {
     "name": "stdout",
     "output_type": "stream",
     "text": [
      "<class 'set'> <class 'set'>\n",
      "{2, 3, 5}\n"
     ]
    }
   ],
   "source": [
    "# membuat contoh set\n",
    "s1 = set([1, 2, 3, 1])  # mengubah list menjadi tuple\n",
    "s2 = {4, 4, 5}          # kurung pada set sama dengan dictionary\n",
    "print(type(s1), type(s2))\n",
    "\n",
    "# set bersifat mutable, unordered, unique\n",
    "s1.add(5)\n",
    "s1.remove(1)\n",
    "print(s1)"
   ]
  },
  {
   "cell_type": "markdown",
   "metadata": {},
   "source": [
    "### Declaring a Frozenset"
   ]
  },
  {
   "cell_type": "code",
   "execution_count": 16,
   "metadata": {},
   "outputs": [
    {
     "name": "stdout",
     "output_type": "stream",
     "text": [
      "<class 'frozenset'>\n"
     ]
    }
   ],
   "source": [
    "# membuat contoh frozenset\n",
    "# frozenset bersifat immutable, unordered, unique\n",
    "fset = frozenset([1, 2, 3, 4])\n",
    "print(type(fset))"
   ]
  },
  {
   "cell_type": "markdown",
   "metadata": {},
   "source": [
    "### Latihan H3"
   ]
  },
  {
   "cell_type": "code",
   "execution_count": 17,
   "metadata": {},
   "outputs": [
    {
     "name": "stdout",
     "output_type": "stream",
     "text": [
      "Masukkan nomor akun: 1345\n",
      "frozenset({'1345'})\n"
     ]
    }
   ],
   "source": [
    "# 1. User Input:\n",
    "account = []\n",
    "account_num = input('Masukkan nomor akun: ')\n",
    "account.append(account_num)\n",
    "print(frozenset(account))"
   ]
  },
  {
   "cell_type": "code",
   "execution_count": 18,
   "metadata": {},
   "outputs": [
    {
     "name": "stdout",
     "output_type": "stream",
     "text": [
      "{10, 3, 4, 7}\n"
     ]
    }
   ],
   "source": [
    "# 2. Conversion:\n",
    "nums = [3, 4, 3, 7, 10]\n",
    "unq_nums = set(nums)\n",
    "print(unq_nums)"
   ]
  },
  {
   "cell_type": "markdown",
   "metadata": {},
   "source": [
    "# H4-Reading and Writing Files"
   ]
  },
  {
   "cell_type": "markdown",
   "metadata": {},
   "source": [
    "### Working with Text Files"
   ]
  },
  {
   "cell_type": "code",
   "execution_count": 19,
   "metadata": {},
   "outputs": [
    {
     "name": "stdout",
     "output_type": "stream",
     "text": [
      "ini sebuah percobaan\n"
     ]
    }
   ],
   "source": [
    "# membuka/membuat dan menulis pada file text\n",
    "f = open('test.txt', 'w+')\n",
    "f.write('ini sebuah percobaan')\n",
    "f.close()\n",
    "\n",
    "# membaca isi dari file text\n",
    "f = open('test.txt', 'r')\n",
    "data = f.read()\n",
    "f.close()\n",
    "print(data)"
   ]
  },
  {
   "cell_type": "markdown",
   "metadata": {},
   "source": [
    "### Writing to CSV Files"
   ]
  },
  {
   "cell_type": "code",
   "execution_count": 20,
   "metadata": {},
   "outputs": [],
   "source": [
    "# membuka/membuat dan menulis pada csv file\n",
    "import csv\n",
    "with open('test.csv', mode='w', newline='') as f:\n",
    "    writer = csv.writer(f, delimiter=',')\n",
    "    writer.writerow(['Nama', 'Kota'])\n",
    "    writer.writerow(['Vide', 'Jakarta'])"
   ]
  },
  {
   "cell_type": "markdown",
   "metadata": {},
   "source": [
    "### Reading from CSV Files"
   ]
  },
  {
   "cell_type": "code",
   "execution_count": 21,
   "metadata": {},
   "outputs": [
    {
     "name": "stdout",
     "output_type": "stream",
     "text": [
      "['Nama', 'Kota']\n",
      "['Vide', 'Jakarta']\n"
     ]
    }
   ],
   "source": [
    "# membaca csv files\n",
    "with open('test.csv', mode='r') as f:\n",
    "    reader = csv.reader(f, delimiter=',')\n",
    "    for row in reader:\n",
    "        print(row)"
   ]
  },
  {
   "cell_type": "markdown",
   "metadata": {},
   "source": [
    "### File Modes in Python\n",
    "'r'    : mode default, membuka file hanya untuk membaca\n",
    "'w'    : membuka file untuk menulis\n",
    "'x'    : membuat file baru, jika file sudah ada maka akan gagal\n",
    "'a'    : membuka dalam mode penambahan, jika file tidak ada maka akan membuat baru\n",
    "'b'    : membuka mode binary\n",
    "'+'    : membuka file untuk membaca dan menulis. Bagus untuk update"
   ]
  },
  {
   "cell_type": "markdown",
   "metadata": {},
   "source": [
    "### Latihan H4"
   ]
  },
  {
   "cell_type": "code",
   "execution_count": 22,
   "metadata": {},
   "outputs": [
    {
     "name": "stdout",
     "output_type": "stream",
     "text": [
      "Masukkan nomor favorit anda: 25\n",
      "25\n"
     ]
    }
   ],
   "source": [
    "# 1. User Input:\n",
    "num = input('Masukkan nomor favorit anda: ')\n",
    "f = open('fav_num.txt', 'w+')\n",
    "f.write(num)\n",
    "f.close()\n",
    "\n",
    "# melihat isi file fav_num.txt\n",
    "f = open('fav_num.txt', 'r')\n",
    "data = f.read()\n",
    "f.close()\n",
    "print(data)"
   ]
  },
  {
   "cell_type": "code",
   "execution_count": 38,
   "metadata": {},
   "outputs": [],
   "source": [
    "# 2. Data Dumping:\n",
    "data = {\n",
    "    'nama': ['vide', 'zaki', 'joko'],\n",
    "    'bahasa': ['python', 'java', 'ruby']\n",
    "}\n",
    "\n",
    "import csv\n",
    "with open('test2.csv', mode='w', newline='') as f:\n",
    "    writer = csv.writer(f, delimiter=',')\n",
    "    writer.writerow(['nama', 'bahasa'])\n",
    "    for i in range(3):\n",
    "        writer.writerow([data['nama'][i], data['bahasa'][i]])"
   ]
  },
  {
   "cell_type": "code",
   "execution_count": 39,
   "metadata": {},
   "outputs": [
    {
     "name": "stdout",
     "output_type": "stream",
     "text": [
      "['nama', 'bahasa']\n",
      "['vide', 'python']\n",
      "['zaki', 'java']\n",
      "['joko', 'ruby']\n"
     ]
    }
   ],
   "source": [
    "# membaca test2.csv files\n",
    "with open('test2.csv', mode='r') as f:\n",
    "    reader = csv.reader(f, delimiter=',')\n",
    "    for row in reader:\n",
    "        print(row)"
   ]
  }
 ],
 "metadata": {
  "kernelspec": {
   "display_name": "Python 3",
   "language": "python",
   "name": "python3"
  },
  "language_info": {
   "codemirror_mode": {
    "name": "ipython",
    "version": 3
   },
   "file_extension": ".py",
   "mimetype": "text/x-python",
   "name": "python",
   "nbconvert_exporter": "python",
   "pygments_lexer": "ipython3",
   "version": "3.7.6"
  }
 },
 "nbformat": 4,
 "nbformat_minor": 4
}

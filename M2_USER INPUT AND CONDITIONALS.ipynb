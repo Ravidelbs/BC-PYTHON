{
 "cells": [
  {
   "cell_type": "markdown",
   "metadata": {},
   "source": [
    "# H1-User Input and Type Converting"
   ]
  },
  {
   "cell_type": "markdown",
   "metadata": {},
   "source": [
    "- Accepting User Input"
   ]
  },
  {
   "cell_type": "code",
   "execution_count": 2,
   "metadata": {},
   "outputs": [
    {
     "name": "stdout",
     "output_type": "stream",
     "text": [
      "masukkan nama anda: ravide lubis\n",
      "ravide lubis\n"
     ]
    }
   ],
   "source": [
    "# memasukakn input kemudian mencetaknya\n",
    "print(input('masukkan nama anda: '))"
   ]
  },
  {
   "cell_type": "markdown",
   "metadata": {},
   "source": [
    "- Storing User Input"
   ]
  },
  {
   "cell_type": "code",
   "execution_count": 3,
   "metadata": {},
   "outputs": [
    {
     "name": "stdout",
     "output_type": "stream",
     "text": [
      "Siapa nama Anda? ravide lubis\n",
      "Hello, ravide lubis!\n"
     ]
    }
   ],
   "source": [
    "# menyimpan hasil input\n",
    "nama = input('Siapa nama Anda? ')\n",
    "print('Hello, {}!'.format(nama))"
   ]
  },
  {
   "cell_type": "markdown",
   "metadata": {},
   "source": [
    "- Checking the Type"
   ]
  },
  {
   "cell_type": "code",
   "execution_count": 4,
   "metadata": {},
   "outputs": [
    {
     "name": "stdout",
     "output_type": "stream",
     "text": [
      "<class 'int'>\n"
     ]
    }
   ],
   "source": [
    "# mengecek tipe data dari suatu variable\n",
    "num = 10\n",
    "print(type(num))"
   ]
  },
  {
   "cell_type": "markdown",
   "metadata": {},
   "source": [
    "- Converting Data Type"
   ]
  },
  {
   "cell_type": "code",
   "execution_count": 5,
   "metadata": {},
   "outputs": [
    {
     "name": "stdout",
     "output_type": "stream",
     "text": [
      "<class 'int'>\n"
     ]
    }
   ],
   "source": [
    "# mengkonversi variabel dari satu tipe data ke tipe data lain\n",
    "num = '13'\n",
    "num = int(num)\n",
    "print(type(num))"
   ]
  },
  {
   "cell_type": "markdown",
   "metadata": {},
   "source": [
    "- Converting User Input"
   ]
  },
  {
   "cell_type": "code",
   "execution_count": 1,
   "metadata": {},
   "outputs": [
    {
     "name": "stdout",
     "output_type": "stream",
     "text": [
      "Masukkan angka: 89\n",
      "<class 'str'>\n",
      "100 + 89 = 189\n"
     ]
    }
   ],
   "source": [
    "# mengubah tipe data dari hasil input\n",
    "ans = input('Masukkan angka: ')\n",
    "print(type(ans))\n",
    "hasil = 100 + int(ans)\n",
    "print('100 + {} = {}'.format(ans, hasil))"
   ]
  },
  {
   "cell_type": "markdown",
   "metadata": {},
   "source": [
    "- Handling Errors"
   ]
  },
  {
   "cell_type": "code",
   "execution_count": 5,
   "metadata": {
    "scrolled": true
   },
   "outputs": [
    {
     "name": "stdout",
     "output_type": "stream",
     "text": [
      "Masukkan angka: hjk\n",
      "Anda tidak memasukkan angka!\n",
      "Program tidak berhenti!\n"
     ]
    }
   ],
   "source": [
    "# handling error dengan try dan except blocks\n",
    "try:\n",
    "    ans = float(input('Masukkan angka: '))\n",
    "    print('100 + {} = {}'.format(ans, 100 + ans))\n",
    "except:\n",
    "    print('Anda tidak memasukkan angka!')\n",
    "\n",
    "# mengecek bahwa tidak terjadi error\n",
    "print('Program tidak berhenti!')"
   ]
  },
  {
   "cell_type": "markdown",
   "metadata": {},
   "source": [
    "- Latihan H1"
   ]
  },
  {
   "cell_type": "code",
   "execution_count": 7,
   "metadata": {},
   "outputs": [
    {
     "name": "stdout",
     "output_type": "stream",
     "text": [
      "<class 'str'>\n",
      "<class 'bool'>\n"
     ]
    }
   ],
   "source": [
    "# 1. Converting:\n",
    "kuat = 'True'\n",
    "print(type(kuat))\n",
    "bool_kuat = bool(kuat)\n",
    "print(type(bool_kuat))"
   ]
  },
  {
   "cell_type": "code",
   "execution_count": 8,
   "metadata": {},
   "outputs": [
    {
     "name": "stdout",
     "output_type": "stream",
     "text": [
      "Masukkan angka pertama: 12\n",
      "Masukkan angka kedua: 24\n",
      "12 + 24 = 36\n"
     ]
    }
   ],
   "source": [
    "# 2. Sum of Input:\n",
    "ans1 = int(input('Masukkan angka pertama: '))\n",
    "ans2 = int(input('Masukkan angka kedua: '))\n",
    "print('{} + {} = {}'.format(ans1, ans2, ans1 + ans2))"
   ]
  },
  {
   "cell_type": "code",
   "execution_count": 9,
   "metadata": {},
   "outputs": [
    {
     "name": "stdout",
     "output_type": "stream",
     "text": [
      "Isi informasi mobil anda!\n",
      "Masukkan tahun: 1998\n",
      "Masukkan warna: Hitam\n",
      "Masukkan model: Kijang\n",
      "Masukkan merek: Toyota\n",
      "1998 Hitam Kijang Toyota\n"
     ]
    }
   ],
   "source": [
    "# 3. Car Information:\n",
    "print('Isi informasi mobil anda!')\n",
    "tahun = input('Masukkan tahun: ')\n",
    "warna = input('Masukkan warna: ')\n",
    "model = input('Masukkan model: ')\n",
    "merek = input('Masukkan merek: ')\n",
    "print('{} {} {} {}'.format(tahun, warna, model, merek))"
   ]
  },
  {
   "cell_type": "markdown",
   "metadata": {},
   "source": [
    "# H2-If Statements"
   ]
  },
  {
   "cell_type": "markdown",
   "metadata": {},
   "source": [
    "- Writing My First If Satatement"
   ]
  },
  {
   "cell_type": "code",
   "execution_count": 10,
   "metadata": {},
   "outputs": [
    {
     "name": "stdout",
     "output_type": "stream",
     "text": [
      "x is less than y\n"
     ]
    }
   ],
   "source": [
    "# membuat if statement dengan satu kondisi\n",
    "x, y = 3, 8\n",
    "if x < y:\n",
    "    print('x is less than y')"
   ]
  },
  {
   "cell_type": "markdown",
   "metadata": {},
   "source": [
    "- Checking User Input"
   ]
  },
  {
   "cell_type": "code",
   "execution_count": 11,
   "metadata": {},
   "outputs": [
    {
     "name": "stdout",
     "output_type": "stream",
     "text": [
      "Berapa 5 + 5 ? 10\n",
      "Ya, kamu benar!\n"
     ]
    }
   ],
   "source": [
    "# mengecek inputan user\n",
    "ans = int(input('Berapa 5 + 5 ? '))\n",
    "if ans == 10:\n",
    "    print('Ya, kamu benar!')"
   ]
  },
  {
   "cell_type": "markdown",
   "metadata": {},
   "source": [
    "- Logical Operator 'and', 'or', 'not"
   ]
  },
  {
   "cell_type": "code",
   "execution_count": 12,
   "metadata": {},
   "outputs": [
    {
     "name": "stdout",
     "output_type": "stream",
     "text": [
      "Kedua statement tersebut benar\n"
     ]
    }
   ],
   "source": [
    "# menggunakan operator 'and' pada if statement\n",
    "x, y, z = 3, 6, 3\n",
    "if x < y and x == z:\n",
    "    print('Kedua statement tersebut benar')"
   ]
  },
  {
   "cell_type": "code",
   "execution_count": 13,
   "metadata": {},
   "outputs": [
    {
     "name": "stdout",
     "output_type": "stream",
     "text": [
      "Salah satu atau kedua statement benar\n"
     ]
    }
   ],
   "source": [
    "# menggunakan operator 'or' pada if statement\n",
    "x, y, z = 2, 4, 2\n",
    "if x < y or x != z:\n",
    "    print('Salah satu atau kedua statement benar')"
   ]
  },
  {
   "cell_type": "code",
   "execution_count": 14,
   "metadata": {},
   "outputs": [
    {
     "name": "stdout",
     "output_type": "stream",
     "text": [
      "Belum nikah\n"
     ]
    }
   ],
   "source": [
    "# menggunakan operator 'not' pada if statement\n",
    "nikah = False\n",
    "if not nikah:             # sama: if not True/if nikah == False\n",
    "    print('Belum nikah')"
   ]
  },
  {
   "cell_type": "markdown",
   "metadata": {},
   "source": [
    "- Membership Operator 'in', 'not in'"
   ]
  },
  {
   "cell_type": "code",
   "execution_count": 16,
   "metadata": {},
   "outputs": [
    {
     "name": "stdout",
     "output_type": "stream",
     "text": [
      "mobile legend mempunyai karakter huruf b.\n"
     ]
    }
   ],
   "source": [
    "# menggunakan operator 'in' pada if statement\n",
    "game = 'mobile legend'\n",
    "if 'b' in game:\n",
    "    print('{} mempunyai karakter huruf b.'.format(game))"
   ]
  },
  {
   "cell_type": "code",
   "execution_count": 18,
   "metadata": {
    "scrolled": true
   },
   "outputs": [
    {
     "name": "stdout",
     "output_type": "stream",
     "text": [
      "mobile legend tidak mempunyai karakter huruf x.\n"
     ]
    }
   ],
   "source": [
    "# menggunakan operator 'not in' pada if statemnet\n",
    "game = 'mobile legend'\n",
    "if 'x' not in game:\n",
    "    print('{} tidak mempunyai karakter huruf x.'.format(game))"
   ]
  },
  {
   "cell_type": "markdown",
   "metadata": {},
   "source": [
    "- Latihan H2"
   ]
  },
  {
   "cell_type": "code",
   "execution_count": 19,
   "metadata": {},
   "outputs": [
    {
     "name": "stdout",
     "output_type": "stream",
     "text": [
      "Masukakan kata yang mengandung 'es': sales\n",
      "Jawaban anda benar!\n"
     ]
    }
   ],
   "source": [
    "# 1. Checking Inclusion - Part 1:\n",
    "kata = input(\"Masukakan kata yang mengandung 'es': \")\n",
    "if 'es' in kata:\n",
    "    print('Jawaban anda benar!')"
   ]
  },
  {
   "cell_type": "code",
   "execution_count": 22,
   "metadata": {},
   "outputs": [
    {
     "name": "stdout",
     "output_type": "stream",
     "text": [
      "Masukkan kata yang mengandung 'ing' di akhir: selling\n",
      "Jawaban Anda benar!\n"
     ]
    }
   ],
   "source": [
    "# 2. Checking Inclusion - Part 2:\n",
    "kata = input(\"Masukkan kata yang mengandung 'ing' di akhir: \")\n",
    "if 'ing' in kata[-3:]:\n",
    "    print('Jawaban Anda benar!')"
   ]
  },
  {
   "cell_type": "code",
   "execution_count": 23,
   "metadata": {
    "scrolled": true
   },
   "outputs": [
    {
     "name": "stdout",
     "output_type": "stream",
     "text": [
      "Masukkan kata pertama: masuk\n",
      "Masukkan kata kedua: MASUk\n",
      "Kedua kata tersebut sama.\n"
     ]
    }
   ],
   "source": [
    "# 3. Checking Equality:\n",
    "kata1 = input('Masukkan kata pertama: ')\n",
    "kata2 = input('Masukkan kata kedua: ')\n",
    "if kata1.lower() == kata2.lower():\n",
    "    print('Kedua kata tersebut sama.')"
   ]
  },
  {
   "cell_type": "code",
   "execution_count": 25,
   "metadata": {},
   "outputs": [
    {
     "name": "stdout",
     "output_type": "stream",
     "text": [
      "Masukkan angka: 5\n",
      "5^2 = 25\n"
     ]
    }
   ],
   "source": [
    "# 4. Returning Exponents:\n",
    "ans = int(input('Masukkan angka: '))\n",
    "if ans < 10:\n",
    "    print('{}^2 = {}'.format(ans, ans*ans))"
   ]
  },
  {
   "cell_type": "markdown",
   "metadata": {},
   "source": [
    "# H3-Elif Statements"
   ]
  },
  {
   "cell_type": "markdown",
   "metadata": {},
   "source": [
    "- Writing My First Statements"
   ]
  },
  {
   "cell_type": "code",
   "execution_count": 26,
   "metadata": {},
   "outputs": [
    {
     "name": "stdout",
     "output_type": "stream",
     "text": [
      "x is less\n"
     ]
    }
   ],
   "source": [
    "# menggunakan elif statement\n",
    "x, y = 6, 8\n",
    "if x > y:\n",
    "    print('x is greater')\n",
    "elif x < y:\n",
    "    print('x is less')"
   ]
  },
  {
   "cell_type": "markdown",
   "metadata": {},
   "source": [
    "- Checking Multiple Elif Conditions"
   ]
  },
  {
   "cell_type": "code",
   "execution_count": 27,
   "metadata": {},
   "outputs": [
    {
     "name": "stdout",
     "output_type": "stream",
     "text": [
      "equal\n"
     ]
    }
   ],
   "source": [
    "# mengecek lebih dari satu elif statement\n",
    "x, y = 4, 8\n",
    "if x > y:\n",
    "    print('x is greater')\n",
    "elif (x + 8) < y:\n",
    "    print('x is less')\n",
    "elif (x + 4) == y:\n",
    "    print('equal')"
   ]
  },
  {
   "cell_type": "markdown",
   "metadata": {},
   "source": [
    "- Conditionals Within Conditionals"
   ]
  },
  {
   "cell_type": "code",
   "execution_count": 28,
   "metadata": {},
   "outputs": [
    {
     "name": "stdout",
     "output_type": "stream",
     "text": [
      "x is equal to z\n"
     ]
    }
   ],
   "source": [
    "# membuat multiple conditionals satu sama lain\n",
    "x = 4\n",
    "y = 8\n",
    "z = 4\n",
    "if x > y:\n",
    "    print('greater')\n",
    "elif x <= y:\n",
    "    if x == z:\n",
    "        print('x is equal to z')\n",
    "    elif x != z:\n",
    "        print('x is not equal to z')"
   ]
  },
  {
   "cell_type": "markdown",
   "metadata": {},
   "source": [
    "- If Statements vs. Elif Statements"
   ]
  },
  {
   "cell_type": "code",
   "execution_count": 30,
   "metadata": {},
   "outputs": [
    {
     "name": "stdout",
     "output_type": "stream",
     "text": [
      "x is less\n",
      "x is equal\n"
     ]
    }
   ],
   "source": [
    "'''\n",
    "test output dari dua if statement \n",
    "dalam satu baris yang sama-sama benar\n",
    "'''\n",
    "x, y, z = 5, 10, 5\n",
    "if x < y:\n",
    "    print('x is less')\n",
    "if x == z:\n",
    "    print('x is equal')"
   ]
  },
  {
   "cell_type": "code",
   "execution_count": 31,
   "metadata": {},
   "outputs": [
    {
     "name": "stdout",
     "output_type": "stream",
     "text": [
      "x is less\n"
     ]
    }
   ],
   "source": [
    "'''\n",
    "test output dari if statement dan elif statement\n",
    "dalam satu baris yang sama-sama benar\n",
    "'''\n",
    "x, y, z = 5, 10, 5\n",
    "if x < y:\n",
    "    print('x is less')\n",
    "elif x == z:\n",
    "    print('x is equal to z')"
   ]
  },
  {
   "cell_type": "markdown",
   "metadata": {},
   "source": [
    "- Latihan H3"
   ]
  },
  {
   "cell_type": "code",
   "execution_count": 33,
   "metadata": {},
   "outputs": [
    {
     "name": "stdout",
     "output_type": "stream",
     "text": [
      "Masukkan angka kesukaan anda: 67\n",
      "67 lebih kecil dari 100\n"
     ]
    }
   ],
   "source": [
    "# 1. Higher/Lower:\n",
    "ans = int(input('Masukkan angka kesukaan anda: '))\n",
    "if ans > 100:\n",
    "    print('{} lebih besar dari 100'.format(ans))\n",
    "elif ans < 100:\n",
    "    print('{} lebih kecil dari 100'.format(ans))"
   ]
  },
  {
   "cell_type": "code",
   "execution_count": 34,
   "metadata": {},
   "outputs": [
    {
     "name": "stdout",
     "output_type": "stream",
     "text": [
      "lower\n"
     ]
    }
   ],
   "source": [
    "# 2. Find the Solution:\n",
    "x, y = 8, 12\n",
    "if x > y:\n",
    "    print('greater')\n",
    "elif x < y:\n",
    "    print('lower')"
   ]
  },
  {
   "cell_type": "markdown",
   "metadata": {},
   "source": [
    "# H4-Else Statements"
   ]
  },
  {
   "cell_type": "markdown",
   "metadata": {},
   "source": [
    "- Writing My First Else Statement"
   ]
  },
  {
   "cell_type": "code",
   "execution_count": 35,
   "metadata": {},
   "outputs": [
    {
     "name": "stdout",
     "output_type": "stream",
     "text": [
      "Hello vide!\n"
     ]
    }
   ],
   "source": [
    "# menggunakan else statement\n",
    "nama = 'vide'\n",
    "if nama == 'jacob':\n",
    "    print('Hello Jacob!')\n",
    "else:\n",
    "    print('Hello {}!'.format(nama))"
   ]
  },
  {
   "cell_type": "markdown",
   "metadata": {},
   "source": [
    "- Complate Conditional Statement"
   ]
  },
  {
   "cell_type": "code",
   "execution_count": 1,
   "metadata": {},
   "outputs": [
    {
     "name": "stdout",
     "output_type": "stream",
     "text": [
      "Nama diawali huruf V\n"
     ]
    }
   ],
   "source": [
    "# membuat full conditional statement if , elif dan else\n",
    "nama = 'Vide'\n",
    "if nama[0] == 'A':\n",
    "    print('Nama diawali huruf A')\n",
    "elif nama[0] == 'B':\n",
    "    print('Nama diawali huruf B')\n",
    "elif nama[0] == 'V':\n",
    "    print('Nama diawali huruf V')\n",
    "else:\n",
    "    print('Nama diawali huruf {}'.format(nama[0]))"
   ]
  },
  {
   "cell_type": "markdown",
   "metadata": {},
   "source": [
    "- Latihan H4"
   ]
  },
  {
   "cell_type": "code",
   "execution_count": 2,
   "metadata": {},
   "outputs": [
    {
     "name": "stdout",
     "output_type": "stream",
     "text": [
      "Hallo Vide!\n"
     ]
    }
   ],
   "source": [
    "# 1. Fix the Errors:\n",
    "name = 'vide'\n",
    "if name == 'jack':\n",
    "    print('Hello Jack!')\n",
    "elif name == 'vide':\n",
    "    print('Hallo Vide!')"
   ]
  },
  {
   "cell_type": "code",
   "execution_count": 3,
   "metadata": {},
   "outputs": [
    {
     "name": "stdout",
     "output_type": "stream",
     "text": [
      "Jam berapa sekarang (exp: 1100 = 11:00): 1350\n",
      "Selamat Siang\n"
     ]
    }
   ],
   "source": [
    "# 2. User Input:\n",
    "jam = int(input('Jam berapa sekarang (exp: 1100 = 11:00): '))\n",
    "if jam < 1200:\n",
    "    print('Selamat Pagi')\n",
    "elif 1200 < jam < 1700:\n",
    "    print('Selamat Siang')\n",
    "elif jam >= 1700:\n",
    "    print('Selamat Sore')"
   ]
  }
 ],
 "metadata": {
  "kernelspec": {
   "display_name": "Python 3",
   "language": "python",
   "name": "python3"
  },
  "language_info": {
   "codemirror_mode": {
    "name": "ipython",
    "version": 3
   },
   "file_extension": ".py",
   "mimetype": "text/x-python",
   "name": "python",
   "nbconvert_exporter": "python",
   "pygments_lexer": "ipython3",
   "version": "3.7.6"
  }
 },
 "nbformat": 4,
 "nbformat_minor": 4
}

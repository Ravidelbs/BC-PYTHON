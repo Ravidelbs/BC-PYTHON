{
 "cells": [
  {
   "cell_type": "markdown",
   "metadata": {},
   "source": [
    "# H1-Comments and Basic Data Types"
   ]
  },
  {
   "cell_type": "markdown",
   "metadata": {},
   "source": [
    "- Menulis Sebuah 'comment'"
   ]
  },
  {
   "cell_type": "code",
   "execution_count": null,
   "metadata": {},
   "outputs": [],
   "source": [
    "# ini sebuah 'comment'"
   ]
  },
  {
   "cell_type": "code",
   "execution_count": 1,
   "metadata": {},
   "outputs": [
    {
     "name": "stdout",
     "output_type": "stream",
     "text": [
      "Hello World!\n"
     ]
    }
   ],
   "source": [
    "print('Hello World!')      # ini juga sebuah 'comment'"
   ]
  },
  {
   "cell_type": "code",
   "execution_count": 2,
   "metadata": {},
   "outputs": [
    {
     "name": "stdout",
     "output_type": "stream",
     "text": [
      "Hello\n"
     ]
    }
   ],
   "source": [
    "'''\n",
    "ini sebuah 'comment' lebih dari satu baris\n",
    "'''\n",
    "print('Hello')"
   ]
  },
  {
   "cell_type": "markdown",
   "metadata": {},
   "source": [
    "- Tipe Data 'Integers'"
   ]
  },
  {
   "cell_type": "code",
   "execution_count": 3,
   "metadata": {},
   "outputs": [
    {
     "name": "stdout",
     "output_type": "stream",
     "text": [
      "3\n",
      "7\n"
     ]
    }
   ],
   "source": [
    "# contoh tipe data integer\n",
    "print(3)\n",
    "print(7)"
   ]
  },
  {
   "cell_type": "markdown",
   "metadata": {},
   "source": [
    "- Tipe Data 'Floats'"
   ]
  },
  {
   "cell_type": "code",
   "execution_count": 4,
   "metadata": {},
   "outputs": [
    {
     "name": "stdout",
     "output_type": "stream",
     "text": [
      "2.5\n",
      "7.9\n"
     ]
    }
   ],
   "source": [
    "# contoh tipe data float\n",
    "print(2.5)\n",
    "print(7.9)"
   ]
  },
  {
   "cell_type": "markdown",
   "metadata": {},
   "source": [
    "- Tipe Data 'Booleans'"
   ]
  },
  {
   "cell_type": "code",
   "execution_count": 5,
   "metadata": {},
   "outputs": [
    {
     "name": "stdout",
     "output_type": "stream",
     "text": [
      "True\n",
      "False\n"
     ]
    }
   ],
   "source": [
    "# contoh tipe data boolean\n",
    "print(True)\n",
    "print(False)"
   ]
  },
  {
   "cell_type": "markdown",
   "metadata": {},
   "source": [
    "- Tipe Data 'Strings'"
   ]
  },
  {
   "cell_type": "code",
   "execution_count": 6,
   "metadata": {},
   "outputs": [
    {
     "name": "stdout",
     "output_type": "stream",
     "text": [
      "\n",
      "ini ular python\n",
      "True\n"
     ]
    }
   ],
   "source": [
    "# contoh data string\n",
    "print('')\n",
    "print('ini ular python')\n",
    "print('True')"
   ]
  },
  {
   "cell_type": "markdown",
   "metadata": {},
   "source": [
    "# H2-Variables"
   ]
  },
  {
   "cell_type": "markdown",
   "metadata": {},
   "source": [
    "- Variable Integer dan Float"
   ]
  },
  {
   "cell_type": "code",
   "execution_count": 7,
   "metadata": {},
   "outputs": [
    {
     "name": "stdout",
     "output_type": "stream",
     "text": [
      "5 8.4\n"
     ]
    }
   ],
   "source": [
    "num1 = 5          # integer variable\n",
    "num2 = 8.4        # float variable\n",
    "print(num1, num2)"
   ]
  },
  {
   "cell_type": "markdown",
   "metadata": {},
   "source": [
    "- Variable Boolean"
   ]
  },
  {
   "cell_type": "code",
   "execution_count": 8,
   "metadata": {},
   "outputs": [
    {
     "name": "stdout",
     "output_type": "stream",
     "text": [
      "True False\n"
     ]
    }
   ],
   "source": [
    "# contoh variable boolean\n",
    "baca = True\n",
    "tulis = False\n",
    "print(baca, tulis)"
   ]
  },
  {
   "cell_type": "markdown",
   "metadata": {},
   "source": [
    "- Variable String"
   ]
  },
  {
   "cell_type": "code",
   "execution_count": 9,
   "metadata": {},
   "outputs": [
    {
     "name": "stdout",
     "output_type": "stream",
     "text": [
      "vide 12\n"
     ]
    }
   ],
   "source": [
    "# contoh variable string\n",
    "nama = 'vide'\n",
    "kelas = '12'\n",
    "print(nama, kelas)"
   ]
  },
  {
   "cell_type": "markdown",
   "metadata": {},
   "source": [
    "- Multiple Variabel"
   ]
  },
  {
   "cell_type": "code",
   "execution_count": 10,
   "metadata": {},
   "outputs": [
    {
     "name": "stdout",
     "output_type": "stream",
     "text": [
      "13.4\n"
     ]
    }
   ],
   "source": [
    "# contoh menggunakan dua variable\n",
    "hasil = num1 + num2\n",
    "print(hasil)"
   ]
  },
  {
   "cell_type": "markdown",
   "metadata": {},
   "source": [
    "- Menggunakan Operator pada Variable Angka"
   ]
  },
  {
   "cell_type": "code",
   "execution_count": 11,
   "metadata": {},
   "outputs": [
    {
     "name": "stdout",
     "output_type": "stream",
     "text": [
      "14.4\n",
      "72.0\n"
     ]
    }
   ],
   "source": [
    "# contoh penambahan dan perkalian dari suatu variable\n",
    "hasil += 1      # sama dengan: hasil = hasil + 1\n",
    "print(hasil)\n",
    "hasil *= num1   # sama dengan: hasil = hasil * num1\n",
    "print(hasil)"
   ]
  },
  {
   "cell_type": "markdown",
   "metadata": {},
   "source": [
    "- Overwriting pada Variable"
   ]
  },
  {
   "cell_type": "code",
   "execution_count": 12,
   "metadata": {},
   "outputs": [
    {
     "name": "stdout",
     "output_type": "stream",
     "text": [
      "vide\n",
      "zaki\n"
     ]
    }
   ],
   "source": [
    "# tentukan variable dan overwriting nilainya\n",
    "nama = 'vide'\n",
    "print(nama)\n",
    "nama = 'zaki'\n",
    "print(nama)"
   ]
  },
  {
   "cell_type": "markdown",
   "metadata": {},
   "source": [
    "- Latihan H2"
   ]
  },
  {
   "cell_type": "code",
   "execution_count": 13,
   "metadata": {},
   "outputs": [
    {
     "name": "stdout",
     "output_type": "stream",
     "text": [
      "30\n"
     ]
    }
   ],
   "source": [
    "# 1. variable output\n",
    "x = 3\n",
    "y = 10\n",
    "hasil = x * y\n",
    "print(hasil)"
   ]
  },
  {
   "cell_type": "code",
   "execution_count": 15,
   "metadata": {},
   "outputs": [
    {
     "name": "stdout",
     "output_type": "stream",
     "text": [
      "Luas persegi panjang tersebut adalah: 3354.0764 m^2\n"
     ]
    }
   ],
   "source": [
    "# 2. area calculation\n",
    "panjang = 245.54\n",
    "lebar = 13.66\n",
    "luas = panjang * lebar\n",
    "print('Luas persegi panjang tersebut adalah:', luas, 'm^2')"
   ]
  },
  {
   "cell_type": "markdown",
   "metadata": {},
   "source": [
    "# H3-Working with Strings"
   ]
  },
  {
   "cell_type": "markdown",
   "metadata": {},
   "source": [
    "- String Concatenation"
   ]
  },
  {
   "cell_type": "code",
   "execution_count": 16,
   "metadata": {},
   "outputs": [
    {
     "name": "stdout",
     "output_type": "stream",
     "text": [
      "vide lubis\n"
     ]
    }
   ],
   "source": [
    "# menggunakan operator tambah tanpa variable\n",
    "nama = 'vide' + ' ' + 'lubis'\n",
    "print(nama)"
   ]
  },
  {
   "cell_type": "code",
   "execution_count": 17,
   "metadata": {},
   "outputs": [
    {
     "name": "stdout",
     "output_type": "stream",
     "text": [
      "vide lubis\n"
     ]
    }
   ],
   "source": [
    "# menggunakan operator tambah dan menggunakan variable\n",
    "first_name = 'vide'\n",
    "last_name = 'lubis'\n",
    "full_name = first_name + ' ' + last_name\n",
    "print(full_name)"
   ]
  },
  {
   "cell_type": "markdown",
   "metadata": {},
   "source": [
    "- Formatting Strings"
   ]
  },
  {
   "cell_type": "code",
   "execution_count": 18,
   "metadata": {},
   "outputs": [
    {
     "name": "stdout",
     "output_type": "stream",
     "text": [
      "Hello vide\n",
      "Hello vide, kamu sekarang berumur 25 tahun\n"
     ]
    }
   ],
   "source": [
    "# menggunakan method .format()\n",
    "nama = 'vide'\n",
    "print('Hello {}'.format(nama))\n",
    "print('Hello {}, kamu sekarang berumur {} tahun'.format(nama, 25))"
   ]
  },
  {
   "cell_type": "code",
   "execution_count": 19,
   "metadata": {},
   "outputs": [
    {
     "name": "stdout",
     "output_type": "stream",
     "text": [
      "Hello, vide\n"
     ]
    }
   ],
   "source": [
    "# menggunakan f strings (ada pada python 3.6 ke atas)\n",
    "nama = 'vide'\n",
    "print(f'Hello, {nama}')"
   ]
  },
  {
   "cell_type": "markdown",
   "metadata": {},
   "source": [
    "- String Index"
   ]
  },
  {
   "cell_type": "code",
   "execution_count": 20,
   "metadata": {},
   "outputs": [
    {
     "name": "stdout",
     "output_type": "stream",
     "text": [
      "H\n",
      "e\n",
      "o\n"
     ]
    }
   ],
   "source": [
    "# menggunakan index untuk mencetak salah satu elemen\n",
    "'''\n",
    "index dimulai dari 0, 1, 2, 3, 4, ... dst.\n",
    "contoh: kamu ---> k=0, a=1, m=2, dan u=3.\n",
    "'''\n",
    "kata = 'Hello'\n",
    "print(kata[0])\n",
    "print(kata[1])\n",
    "print(kata[-1])"
   ]
  },
  {
   "cell_type": "markdown",
   "metadata": {},
   "source": [
    "- String Slicing"
   ]
  },
  {
   "cell_type": "code",
   "execution_count": 21,
   "metadata": {},
   "outputs": [
    {
     "name": "stdout",
     "output_type": "stream",
     "text": [
      "He\n",
      "Hlo\n"
     ]
    }
   ],
   "source": [
    "# memotong nilai variable kata dari index 0 s/d 2\n",
    "print(kata[0:2])\n",
    "\n",
    "# memotong nilai variable kata dari index 0 s/d 5 dengan 2 step\n",
    "print(kata[0:5:2])"
   ]
  },
  {
   "cell_type": "markdown",
   "metadata": {},
   "source": [
    "- Latihan H3"
   ]
  },
  {
   "cell_type": "code",
   "execution_count": 23,
   "metadata": {},
   "outputs": [
    {
     "name": "stdout",
     "output_type": "stream",
     "text": [
      "23 4.5 False vide\n"
     ]
    }
   ],
   "source": [
    "# 1. Variable Injection:\n",
    "no1 = 23\n",
    "no2 = 4.5\n",
    "cantik = False\n",
    "nama = 'vide'\n",
    "print('{} {} {} {}'.format(no1, no2, cantik, nama))"
   ]
  },
  {
   "cell_type": "code",
   "execution_count": 25,
   "metadata": {},
   "outputs": [
    {
     "name": "stdout",
     "output_type": "stream",
     "text": [
      "olahraga kesukaan vide adalah bersepeda\n",
      "vide bekerja sebagai mekanik sepeda\n"
     ]
    }
   ],
   "source": [
    "# 2. Fill in the Blanks:\n",
    "nama = 'vide'\n",
    "hobi = 'bersepeda'\n",
    "print(f'olahraga kesukaan {nama} adalah {hobi}')\n",
    "print(f'{nama} bekerja sebagai mekanik {hobi[3:]}')"
   ]
  },
  {
   "cell_type": "markdown",
   "metadata": {},
   "source": [
    "# H4-String Mnipulation"
   ]
  },
  {
   "cell_type": "markdown",
   "metadata": {},
   "source": [
    "- .title()"
   ]
  },
  {
   "cell_type": "code",
   "execution_count": 27,
   "metadata": {},
   "outputs": [
    {
     "name": "stdout",
     "output_type": "stream",
     "text": [
      "Vide Lubis\n",
      "ALAK JULU\n",
      "zaki\n"
     ]
    }
   ],
   "source": [
    "# menggunakan method .title() untuk mengkapitalkan string\n",
    "nama = 'vide lubis'\n",
    "print(nama.title())\n",
    "\n",
    "# menggunakan method .upper() untuk uppercase string\n",
    "nama = 'alak julu'\n",
    "print(nama.upper())\n",
    "\n",
    "# menggunakan method .lower() untuk lowercase string\n",
    "nama ='ZAKI'\n",
    "print(nama.lower())"
   ]
  },
  {
   "cell_type": "markdown",
   "metadata": {},
   "source": [
    "- .split()"
   ]
  },
  {
   "cell_type": "code",
   "execution_count": 28,
   "metadata": {},
   "outputs": [
    {
     "name": "stdout",
     "output_type": "stream",
     "text": [
      "['saya', 'suka', 'sekali', 'buah', 'naga']\n"
     ]
    }
   ],
   "source": [
    "# mengkonversi string ke list\n",
    "kalimat = 'saya suka sekali buah naga'\n",
    "print(kalimat.split(' '))"
   ]
  },
  {
   "cell_type": "markdown",
   "metadata": {},
   "source": [
    "- .strip()"
   ]
  },
  {
   "cell_type": "code",
   "execution_count": 30,
   "metadata": {},
   "outputs": [
    {
     "name": "stdout",
     "output_type": "stream",
     "text": [
      "vide\n",
      "nasi\n"
     ]
    }
   ],
   "source": [
    "# membuang spasi dengan strip\n",
    "nama = '     vide      '\n",
    "print(nama.strip())\n",
    "\n",
    "# membuang operator '=' dengan strip\n",
    "kata = '=========nasi========='\n",
    "print(kata.strip('='))"
   ]
  },
  {
   "cell_type": "markdown",
   "metadata": {},
   "source": [
    "- .replace()"
   ]
  },
  {
   "cell_type": "code",
   "execution_count": 31,
   "metadata": {},
   "outputs": [
    {
     "name": "stdout",
     "output_type": "stream",
     "text": [
      "Vide membeli karung di pasar.\n"
     ]
    }
   ],
   "source": [
    "# mengganti tanda '!' menjadi tanda '.'\n",
    "kalimat = 'Vide membeli karung di pasar!'\n",
    "print(kalimat.replace('!', '.'))"
   ]
  },
  {
   "cell_type": "markdown",
   "metadata": {},
   "source": [
    "- .find()"
   ]
  },
  {
   "cell_type": "code",
   "execution_count": 32,
   "metadata": {},
   "outputs": [
    {
     "name": "stdout",
     "output_type": "stream",
     "text": [
      "33\n"
     ]
    }
   ],
   "source": [
    "# menemukan index awal dari sebuah kata yang dicari\n",
    "s = 'lihat!, ada tabrakan beruntun di jalan itu'\n",
    "print(s.find('jalan'))"
   ]
  },
  {
   "cell_type": "markdown",
   "metadata": {},
   "source": [
    "- Latihan H4"
   ]
  },
  {
   "cell_type": "code",
   "execution_count": 33,
   "metadata": {},
   "outputs": [
    {
     "name": "stdout",
     "output_type": "stream",
     "text": [
      "JAKARTA\n"
     ]
    }
   ],
   "source": [
    "# 1. Uppercasing:\n",
    "kota = 'jakarta'\n",
    "print(kota.upper())"
   ]
  },
  {
   "cell_type": "code",
   "execution_count": 34,
   "metadata": {},
   "outputs": [
    {
     "name": "stdout",
     "output_type": "stream",
     "text": [
      "Vide Lubis\n"
     ]
    }
   ],
   "source": [
    "# 2. Strip Symbols:\n",
    "nama ='$$Vide Lubis'\n",
    "print(nama.lstrip('$'))"
   ]
  }
 ],
 "metadata": {
  "kernelspec": {
   "display_name": "Python 3",
   "language": "python",
   "name": "python3"
  },
  "language_info": {
   "codemirror_mode": {
    "name": "ipython",
    "version": 3
   },
   "file_extension": ".py",
   "mimetype": "text/x-python",
   "name": "python",
   "nbconvert_exporter": "python",
   "pygments_lexer": "ipython3",
   "version": "3.7.6"
  }
 },
 "nbformat": 4,
 "nbformat_minor": 4
}

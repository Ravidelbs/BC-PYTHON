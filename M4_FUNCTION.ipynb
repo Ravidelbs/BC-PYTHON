{
 "cells": [
  {
   "cell_type": "markdown",
   "metadata": {},
   "source": [
    "# H1-Creating and Calling Functions"
   ]
  },
  {
   "cell_type": "markdown",
   "metadata": {},
   "source": [
    "### Writing Function"
   ]
  },
  {
   "cell_type": "code",
   "execution_count": 1,
   "metadata": {},
   "outputs": [
    {
     "name": "stdout",
     "output_type": "stream",
     "text": [
      "Nama: Vide\n",
      "Age: 25\n",
      "Nama: Vide\n",
      "Age: 25\n"
     ]
    }
   ],
   "source": [
    "# menulis fungsi\n",
    "def printInfo():\n",
    "    print('Nama: Vide')\n",
    "    print('Age: 25')\n",
    "\n",
    "printInfo()\n",
    "printInfo()"
   ]
  },
  {
   "cell_type": "markdown",
   "metadata": {},
   "source": [
    "### Performing a Calculation"
   ]
  },
  {
   "cell_type": "code",
   "execution_count": 2,
   "metadata": {},
   "outputs": [
    {
     "name": "stdout",
     "output_type": "stream",
     "text": [
      "8\n"
     ]
    }
   ],
   "source": [
    "# membuat fungsi kalkulasi\n",
    "def calc():\n",
    "    x, y = 3, 5\n",
    "    print(x + y)\n",
    "    \n",
    "calc()    # memanggil fungsi calc()"
   ]
  },
  {
   "cell_type": "markdown",
   "metadata": {},
   "source": [
    "### Latihan H1"
   ]
  },
  {
   "cell_type": "code",
   "execution_count": 4,
   "metadata": {},
   "outputs": [
    {
     "name": "stdout",
     "output_type": "stream",
     "text": [
      "vide\n"
     ]
    }
   ],
   "source": [
    "# 1. Print Name:\n",
    "def myName():\n",
    "    print('vide')\n",
    "\n",
    "myName()  # memanggil funsi myName()"
   ]
  },
  {
   "cell_type": "code",
   "execution_count": 5,
   "metadata": {},
   "outputs": [
    {
     "name": "stdout",
     "output_type": "stream",
     "text": [
      "football\n",
      "football\n",
      "football\n"
     ]
    }
   ],
   "source": [
    "# 2. My favorite sport:\n",
    "def mySport():\n",
    "    print('football')\n",
    "\n",
    "mySport()\n",
    "mySport()\n",
    "mySport()"
   ]
  },
  {
   "cell_type": "markdown",
   "metadata": {},
   "source": [
    "# H2-Parameters"
   ]
  },
  {
   "cell_type": "markdown",
   "metadata": {},
   "source": [
    "### Passing a Single Parameter"
   ]
  },
  {
   "cell_type": "code",
   "execution_count": 6,
   "metadata": {},
   "outputs": [
    {
     "name": "stdout",
     "output_type": "stream",
     "text": [
      "Nama kamu adalah: Vide Lubis\n",
      "Nama kamu adalah: Joko Kodomo\n"
     ]
    }
   ],
   "source": [
    "# membuat satu parameter pada fungsi\n",
    "def printName(full_name):\n",
    "    print('Nama kamu adalah: {}'.format(full_name))\n",
    "\n",
    "printName('Vide Lubis')\n",
    "printName('Joko Kodomo')"
   ]
  },
  {
   "cell_type": "markdown",
   "metadata": {},
   "source": [
    "### Multiple Parameters"
   ]
  },
  {
   "cell_type": "code",
   "execution_count": 7,
   "metadata": {},
   "outputs": [
    {
     "name": "stdout",
     "output_type": "stream",
     "text": [
      "10 + 20 = 30\n",
      "6.3 + 8.7 = 15.0\n"
     ]
    }
   ],
   "source": [
    "# membuat dua atau lebih parameter pada fungsi\n",
    "def penjumlahan(num1, num2):\n",
    "    result = num1 + num2\n",
    "    print('{} + {} = {}'.format(num1, num2, result))\n",
    "\n",
    "# memanggil fungsi penjumlahan()\n",
    "penjumlahan(10, 20)\n",
    "penjumlahan(6.3, 8.7)"
   ]
  },
  {
   "cell_type": "markdown",
   "metadata": {},
   "source": [
    "### Passing a List"
   ]
  },
  {
   "cell_type": "code",
   "execution_count": 9,
   "metadata": {},
   "outputs": [
    {
     "name": "stdout",
     "output_type": "stream",
     "text": [
      "ini hasil pengkuadratan nums1: \n",
      "4\n",
      "16\n",
      "25\n",
      "100\n",
      "ini hasil pengkuadratan nums2: \n",
      "1\n",
      "9\n",
      "36\n"
     ]
    }
   ],
   "source": [
    "# menggunakan fungsi untuk memangkatkan informasi\n",
    "nums1 = [2, 4, 5, 10]\n",
    "nums2 = [1, 3, 6]\n",
    "\n",
    "def squres(nums):\n",
    "    for num in nums:\n",
    "        print(num**2)\n",
    "\n",
    "# memanggil fungsi squres()\n",
    "print('ini hasil pengkuadratan nums1: ')\n",
    "squres(nums1)\n",
    "print('ini hasil pengkuadratan nums2: ')\n",
    "squres(nums2)"
   ]
  },
  {
   "cell_type": "markdown",
   "metadata": {},
   "source": [
    "### Default Parameters"
   ]
  },
  {
   "cell_type": "code",
   "execution_count": 10,
   "metadata": {},
   "outputs": [
    {
     "name": "stdout",
     "output_type": "stream",
     "text": [
      "Luas: 12.56\n"
     ]
    }
   ],
   "source": [
    "# membuat default parameter pada fungsi\n",
    "def luasLingkaran(r, pi=3.14):\n",
    "    luas = pi * (r**2)\n",
    "    print('Luas: {}'.format(luas))\n",
    "\n",
    "# memanggil funsi luasLingkaran()\n",
    "luasLingkaran(2)  # parameter pi tidak perlu didefinisikan karena default"
   ]
  },
  {
   "cell_type": "markdown",
   "metadata": {},
   "source": [
    "### Making Parameters Optional"
   ]
  },
  {
   "cell_type": "code",
   "execution_count": 11,
   "metadata": {},
   "outputs": [
    {
     "name": "stdout",
     "output_type": "stream",
     "text": [
      "Zaki Lubis\n",
      "Zaki Zein Lubis\n"
     ]
    }
   ],
   "source": [
    "# mengatur nilai default parameter\n",
    "def printName(first, last, middle=''):\n",
    "    if middle:\n",
    "        print('{} {} {}'.format(first, middle, last))\n",
    "    else:\n",
    "        print('{} {}'.format(first, last))\n",
    "\n",
    "# memanggil fungsi printName()\n",
    "printName('Zaki', 'Lubis')\n",
    "printName('Zaki', 'Lubis', 'Zein')"
   ]
  },
  {
   "cell_type": "markdown",
   "metadata": {},
   "source": [
    "### Named Parameter Assigment"
   ]
  },
  {
   "cell_type": "code",
   "execution_count": 12,
   "metadata": {},
   "outputs": [
    {
     "name": "stdout",
     "output_type": "stream",
     "text": [
      "5\n",
      "4\n"
     ]
    }
   ],
   "source": [
    "# menentukan nilai parameter dengan referensi nama parameternya\n",
    "def addNums(num1, num2):\n",
    "    print(num1)\n",
    "    print(num2)\n",
    "\n",
    "# memanggil fungsi addNums()\n",
    "addNums(5, num2=4)"
   ]
  },
  {
   "cell_type": "markdown",
   "metadata": {},
   "source": [
    "### *args"
   ]
  },
  {
   "cell_type": "code",
   "execution_count": 13,
   "metadata": {},
   "outputs": [
    {
     "name": "stdout",
     "output_type": "stream",
     "text": [
      "<class 'tuple'>\n",
      "5\n",
      "True\n",
      "Zaki\n"
     ]
    }
   ],
   "source": [
    "# menggunakan args parameter\n",
    "def outputData(name, *args):\n",
    "    print(type(args))\n",
    "    for arg in args:\n",
    "        print(arg)\n",
    "\n",
    "# memanggil fungsi outputData()\n",
    "outputData('Vide', 5, True, 'Zaki')"
   ]
  },
  {
   "cell_type": "markdown",
   "metadata": {},
   "source": [
    "### **kwargs"
   ]
  },
  {
   "cell_type": "code",
   "execution_count": 14,
   "metadata": {},
   "outputs": [
    {
     "name": "stdout",
     "output_type": "stream",
     "text": [
      "<class 'dict'>\n",
      "Vide\n",
      "5\n"
     ]
    }
   ],
   "source": [
    "# menggunakan kwargs paremeter\n",
    "def outputData(**kwargs):\n",
    "    print(type(kwargs))\n",
    "    print(kwargs['nama'])\n",
    "    print(kwargs['num'])\n",
    "\n",
    "# memanggil fungsi outputData()\n",
    "outputData(nama='Vide', num='5', b=True)"
   ]
  },
  {
   "cell_type": "markdown",
   "metadata": {},
   "source": [
    "### Latihan H2"
   ]
  },
  {
   "cell_type": "code",
   "execution_count": 17,
   "metadata": {},
   "outputs": [
    {
     "name": "stdout",
     "output_type": "stream",
     "text": [
      "Masukkan satu kata: Batu\n",
      "True\n"
     ]
    }
   ],
   "source": [
    "# 1. User Input:\n",
    "kata = input('Masukkan satu kata: ')\n",
    "def cekkata(kata):\n",
    "    if kata.istitle():\n",
    "        print('True')\n",
    "    else:\n",
    "        print('False')\n",
    "\n",
    "# memanggil fungsi cekkata()\n",
    "cekkata(kata)"
   ]
  },
  {
   "cell_type": "code",
   "execution_count": 13,
   "metadata": {},
   "outputs": [
    {
     "name": "stdout",
     "output_type": "stream",
     "text": [
      "Tidak ada nama yang anda tulis\n"
     ]
    }
   ],
   "source": [
    "# 2. No Name:\n",
    "def nama(first='', last=''):\n",
    "    if first or last:\n",
    "        print('Namamu adalah: {} {}'.format(first, last))\n",
    "    else:\n",
    "        print('Tidak ada nama yang anda tulis')\n",
    "\n",
    "nama()"
   ]
  },
  {
   "cell_type": "markdown",
   "metadata": {},
   "source": [
    "# H3-Return Satatement"
   ]
  },
  {
   "cell_type": "markdown",
   "metadata": {},
   "source": [
    "### Using Return"
   ]
  },
  {
   "cell_type": "code",
   "execution_count": 23,
   "metadata": {},
   "outputs": [
    {
     "name": "stdout",
     "output_type": "stream",
     "text": [
      "10.0\n",
      "20\n"
     ]
    }
   ],
   "source": [
    "# menggunakan keyword return\n",
    "def addNums(num1, num2):\n",
    "    return num1 + num2\n",
    "\n",
    "num = addNums(5.5, 4.5)\n",
    "print(num)\n",
    "print(addNums(10, 10))"
   ]
  },
  {
   "cell_type": "markdown",
   "metadata": {},
   "source": [
    "### Ternary Operator"
   ]
  },
  {
   "cell_type": "code",
   "execution_count": 25,
   "metadata": {},
   "outputs": [
    {
     "name": "stdout",
     "output_type": "stream",
     "text": [
      "True\n"
     ]
    }
   ],
   "source": [
    "# menggunakan ternary operator\n",
    "def searchList(aList, el):\n",
    "    return True if el in aList else False\n",
    "\n",
    "hasil = searchList(['satu', 2, 'tiga'], 2)\n",
    "print(hasil)"
   ]
  },
  {
   "cell_type": "markdown",
   "metadata": {},
   "source": [
    "### Latihan H3"
   ]
  },
  {
   "cell_type": "code",
   "execution_count": 27,
   "metadata": {},
   "outputs": [
    {
     "name": "stdout",
     "output_type": "stream",
     "text": [
      "vide lubis\n"
     ]
    }
   ],
   "source": [
    "# 1. Full Name:\n",
    "def namaku(first_name, last_name):\n",
    "    return first_name + ' ' + last_name\n",
    "\n",
    "print(namaku('vide', 'lubis'))"
   ]
  },
  {
   "cell_type": "code",
   "execution_count": 28,
   "metadata": {},
   "outputs": [
    {
     "name": "stdout",
     "output_type": "stream",
     "text": [
      "Sebutkan nama buah: apel\n"
     ]
    },
    {
     "data": {
      "text/plain": [
       "'anda memilih buah apel'"
      ]
     },
     "execution_count": 28,
     "metadata": {},
     "output_type": "execute_result"
    }
   ],
   "source": [
    "# 2. User Input:\n",
    "buah = input('Sebutkan nama buah: ')\n",
    "def namabuah(buah):\n",
    "    return 'anda memilih buah {}'.format(buah)\n",
    "\n",
    "namabuah(buah)"
   ]
  },
  {
   "cell_type": "markdown",
   "metadata": {},
   "source": [
    "# H4-Scope"
   ]
  },
  {
   "cell_type": "markdown",
   "metadata": {},
   "source": [
    "### Global Scope Access"
   ]
  },
  {
   "cell_type": "code",
   "execution_count": 4,
   "metadata": {},
   "outputs": [
    {
     "ename": "UnboundLocalError",
     "evalue": "local variable 'number' referenced before assignment",
     "output_type": "error",
     "traceback": [
      "\u001b[1;31m---------------------------------------------------------------------------\u001b[0m",
      "\u001b[1;31mUnboundLocalError\u001b[0m                         Traceback (most recent call last)",
      "\u001b[1;32m<ipython-input-4-63230e425cb8>\u001b[0m in \u001b[0;36m<module>\u001b[1;34m\u001b[0m\n\u001b[0;32m      5\u001b[0m \u001b[1;33m\u001b[0m\u001b[0m\n\u001b[0;32m      6\u001b[0m \u001b[1;31m# memanggil fungsi scopeTest()\u001b[0m\u001b[1;33m\u001b[0m\u001b[1;33m\u001b[0m\u001b[1;33m\u001b[0m\u001b[0m\n\u001b[1;32m----> 7\u001b[1;33m \u001b[0mscopeTest\u001b[0m\u001b[1;33m(\u001b[0m\u001b[1;33m)\u001b[0m\u001b[1;33m\u001b[0m\u001b[1;33m\u001b[0m\u001b[0m\n\u001b[0m",
      "\u001b[1;32m<ipython-input-4-63230e425cb8>\u001b[0m in \u001b[0;36mscopeTest\u001b[1;34m()\u001b[0m\n\u001b[0;32m      2\u001b[0m \u001b[0mnumber\u001b[0m \u001b[1;33m=\u001b[0m \u001b[1;36m5\u001b[0m\u001b[1;33m\u001b[0m\u001b[1;33m\u001b[0m\u001b[0m\n\u001b[0;32m      3\u001b[0m \u001b[1;32mdef\u001b[0m \u001b[0mscopeTest\u001b[0m\u001b[1;33m(\u001b[0m\u001b[1;33m)\u001b[0m\u001b[1;33m:\u001b[0m\u001b[1;33m\u001b[0m\u001b[1;33m\u001b[0m\u001b[0m\n\u001b[1;32m----> 4\u001b[1;33m     \u001b[0mnumber\u001b[0m \u001b[1;33m+=\u001b[0m \u001b[1;36m1\u001b[0m\u001b[1;33m\u001b[0m\u001b[1;33m\u001b[0m\u001b[0m\n\u001b[0m\u001b[0;32m      5\u001b[0m \u001b[1;33m\u001b[0m\u001b[0m\n\u001b[0;32m      6\u001b[0m \u001b[1;31m# memanggil fungsi scopeTest()\u001b[0m\u001b[1;33m\u001b[0m\u001b[1;33m\u001b[0m\u001b[1;33m\u001b[0m\u001b[0m\n",
      "\u001b[1;31mUnboundLocalError\u001b[0m: local variable 'number' referenced before assignment"
     ]
    }
   ],
   "source": [
    "# variable global tidak dapat diakses di function\n",
    "number = 5\n",
    "def scopeTest():\n",
    "    number += 1     # tidak dapat diakses\n",
    "\n",
    "# memanggil fungsi scopeTest()\n",
    "scopeTest()         # hasil akan error"
   ]
  },
  {
   "cell_type": "markdown",
   "metadata": {},
   "source": [
    "### Handling Function Scope"
   ]
  },
  {
   "cell_type": "code",
   "execution_count": 5,
   "metadata": {},
   "outputs": [
    {
     "name": "stdout",
     "output_type": "stream",
     "text": [
      "fungsi\n"
     ]
    }
   ],
   "source": [
    "# mengakses variabel yang dideklarasikan di dalam function\n",
    "def scopeTest():\n",
    "    kata = 'fungsi'\n",
    "    return kata\n",
    "\n",
    "nilai = scopeTest()\n",
    "print(nilai)"
   ]
  },
  {
   "cell_type": "markdown",
   "metadata": {},
   "source": [
    "### In-Place Algorithms"
   ]
  },
  {
   "cell_type": "code",
   "execution_count": 7,
   "metadata": {},
   "outputs": [
    {
     "name": "stdout",
     "output_type": "stream",
     "text": [
      "Sebelum diubah: ['baseball', 'football', 'hockey', 'basketball']\n",
      "Setelah diubah: ['soccer', 'football', 'hockey', 'basketball']\n"
     ]
    }
   ],
   "source": [
    "# mengubah nilai item list dengan index\n",
    "sports = ['baseball', 'football', 'hockey', 'basketball']\n",
    "def change(alist):\n",
    "    alist[0] = 'soccer'\n",
    "\n",
    "print('Sebelum diubah: {}'.format(sports))\n",
    "change(sports)\n",
    "print('Setelah diubah: {}'.format(sports))"
   ]
  },
  {
   "cell_type": "markdown",
   "metadata": {},
   "source": [
    "### Latihan H4"
   ]
  },
  {
   "cell_type": "code",
   "execution_count": 8,
   "metadata": {},
   "outputs": [
    {
     "name": "stdout",
     "output_type": "stream",
     "text": [
      "Setelah diubah: ['vide', 'zaki', 'anwar']\n"
     ]
    }
   ],
   "source": [
    "# 1. Names:\n",
    "names = ['vide', 'zaki', 'joko']\n",
    "def changeValue(alist, name, index):\n",
    "    alist[index] = name\n",
    "\n",
    "# mengubah nilai item\n",
    "changeValue(names, 'anwar', 2)\n",
    "\n",
    "# mencetak nilai list yang telah diubah\n",
    "print('Setelah diubah: {}'.format(names))"
   ]
  }
 ],
 "metadata": {
  "kernelspec": {
   "display_name": "Python 3",
   "language": "python",
   "name": "python3"
  },
  "language_info": {
   "codemirror_mode": {
    "name": "ipython",
    "version": 3
   },
   "file_extension": ".py",
   "mimetype": "text/x-python",
   "name": "python",
   "nbconvert_exporter": "python",
   "pygments_lexer": "ipython3",
   "version": "3.7.6"
  }
 },
 "nbformat": 4,
 "nbformat_minor": 4
}

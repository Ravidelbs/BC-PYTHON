{
 "cells": [
  {
   "cell_type": "markdown",
   "metadata": {},
   "source": [
    "# H1-List Comprehension"
   ]
  },
  {
   "cell_type": "markdown",
   "metadata": {},
   "source": [
    "### Generating a List of Numbers"
   ]
  },
  {
   "cell_type": "code",
   "execution_count": 1,
   "metadata": {},
   "outputs": [
    {
     "name": "stdout",
     "output_type": "stream",
     "text": [
      "[0, 1, 2, 3, 4, 5, 6, 7, 8, 9, 10, 11, 12, 13, 14, 15, 16, 17, 18, 19, 20, 21, 22, 23, 24, 25, 26, 27, 28, 29, 30, 31, 32, 33, 34, 35, 36, 37, 38, 39, 40, 41, 42, 43, 44, 45, 46, 47, 48, 49, 50, 51, 52, 53, 54, 55, 56, 57, 58, 59, 60, 61, 62, 63, 64, 65, 66, 67, 68, 69, 70, 71, 72, 73, 74, 75, 76, 77, 78, 79, 80, 81, 82, 83, 84, 85, 86, 87, 88, 89, 90, 91, 92, 93, 94, 95, 96, 97, 98, 99]\n"
     ]
    }
   ],
   "source": [
    "# membuat sebuah lsit dari sepuluh bilangan dengan list comprehension\n",
    "nums = [x for x in range(100)]\n",
    "print(nums)"
   ]
  },
  {
   "cell_type": "markdown",
   "metadata": {},
   "source": [
    "### If Satatement"
   ]
  },
  {
   "cell_type": "code",
   "execution_count": 3,
   "metadata": {},
   "outputs": [
    {
     "name": "stdout",
     "output_type": "stream",
     "text": [
      "[0, 2, 4, 6, 8]\n"
     ]
    }
   ],
   "source": [
    "# menggunakan if statementsbndi dalam list comprehension\n",
    "nums = [x for x in range(10) if x % 2 == 0]\n",
    "print(nums)"
   ]
  },
  {
   "cell_type": "markdown",
   "metadata": {},
   "source": [
    "### If-Else Satatements"
   ]
  },
  {
   "cell_type": "code",
   "execution_count": 4,
   "metadata": {},
   "outputs": [
    {
     "name": "stdout",
     "output_type": "stream",
     "text": [
      "['even', 'odd', 'even', 'odd', 'even', 'odd', 'even', 'odd', 'even', 'odd']\n"
     ]
    }
   ],
   "source": [
    "# menggunakan if/else statement di dalam list comprehension\n",
    "nums = ['even' if x % 2 == 0 else 'odd' for x in range(10)]\n",
    "print(nums)"
   ]
  },
  {
   "cell_type": "markdown",
   "metadata": {},
   "source": [
    "### List Comprehension with Variables"
   ]
  },
  {
   "cell_type": "code",
   "execution_count": 8,
   "metadata": {},
   "outputs": [
    {
     "name": "stdout",
     "output_type": "stream",
     "text": [
      "[2, 4, 6, 8]\n",
      "[4, 16, 36, 64]\n"
     ]
    }
   ],
   "source": [
    "# membuat sebuah list dari pangkat bilangan dari list yang lain\n",
    "nums = [2, 4, 6, 8]\n",
    "squared_nums = [x**2 for x in nums]\n",
    "print(nums)\n",
    "print(squared_nums)"
   ]
  },
  {
   "cell_type": "markdown",
   "metadata": {},
   "source": [
    "### Dictionary Comprehension"
   ]
  },
  {
   "cell_type": "code",
   "execution_count": 14,
   "metadata": {},
   "outputs": [
    {
     "name": "stdout",
     "output_type": "stream",
     "text": [
      "{0: 0, 2: 4, 4: 16, 6: 36, 8: 64}\n"
     ]
    }
   ],
   "source": [
    "# membuat sebuah dictionary dengan list comprehension\n",
    "angka = [x for x in range(10)]\n",
    "pangkat = {x : x**2 for x in angka if x % 2 == 0}\n",
    "print(pangkat)"
   ]
  },
  {
   "cell_type": "markdown",
   "metadata": {},
   "source": [
    "### Latihan H1"
   ]
  },
  {
   "cell_type": "code",
   "execution_count": 16,
   "metadata": {},
   "outputs": [
    {
     "name": "stdout",
     "output_type": "stream",
     "text": [
      "[53.6, 69.80000000000001, 59.0, 89.6]\n"
     ]
    }
   ],
   "source": [
    "# 1. Degree Conversion:\n",
    "d_calcius = [12, 21, 15, 32]\n",
    "d_fahrenheit = [(9/5)*x + 32 for x in d_calcius]\n",
    "print(d_fahrenheit)"
   ]
  },
  {
   "cell_type": "code",
   "execution_count": 24,
   "metadata": {},
   "outputs": [
    {
     "name": "stdout",
     "output_type": "stream",
     "text": [
      "masukkan angka: 10\n",
      "[10, 20, 30, 40, 50, 60, 70, 80, 90, 100]\n"
     ]
    }
   ],
   "source": [
    "# 2. User Input:\n",
    "num = int(input('masukkan angka: '))\n",
    "\n",
    "# angka yang dapat dibagi dengan inputan dengan batasan samapi 100\n",
    "nums = [x for x in range(1,101) if x % num == 0]\n",
    "print(nums)"
   ]
  },
  {
   "cell_type": "markdown",
   "metadata": {},
   "source": [
    "# H2-Lambda Functions"
   ]
  },
  {
   "cell_type": "markdown",
   "metadata": {},
   "source": [
    "### Using a Lambda"
   ]
  },
  {
   "cell_type": "code",
   "execution_count": 25,
   "metadata": {},
   "outputs": [
    {
     "data": {
      "text/plain": [
       "16"
      ]
     },
     "execution_count": 25,
     "metadata": {},
     "output_type": "execute_result"
    }
   ],
   "source": [
    "# membuat fungsi lambda untuk memangkatkan bilangan\n",
    "(lambda x : x**2)(4)"
   ]
  },
  {
   "cell_type": "markdown",
   "metadata": {},
   "source": [
    "### Passing Multiple Arguments"
   ]
  },
  {
   "cell_type": "code",
   "execution_count": 26,
   "metadata": {},
   "outputs": [
    {
     "data": {
      "text/plain": [
       "50"
      ]
     },
     "execution_count": 26,
     "metadata": {},
     "output_type": "execute_result"
    }
   ],
   "source": [
    "# membuat dua argumen pada funsi lambda\n",
    "(lambda x, y: x * y)(10, 5)"
   ]
  },
  {
   "cell_type": "markdown",
   "metadata": {},
   "source": [
    "### Saving Lambda Functions"
   ]
  },
  {
   "cell_type": "code",
   "execution_count": 27,
   "metadata": {},
   "outputs": [
    {
     "name": "stdout",
     "output_type": "stream",
     "text": [
      "<function <lambda> at 0x000000E2572A89D8>\n",
      "30\n"
     ]
    }
   ],
   "source": [
    "# menyimpan fungsi lambda ke dalam variable\n",
    "perkalian = lambda x, y: x * y\n",
    "print(perkalian)\n",
    "hasil = perkalian(5, 6)\n",
    "print(hasil)"
   ]
  },
  {
   "cell_type": "markdown",
   "metadata": {},
   "source": [
    "### Conditional Statements"
   ]
  },
  {
   "cell_type": "code",
   "execution_count": 28,
   "metadata": {},
   "outputs": [
    {
     "name": "stdout",
     "output_type": "stream",
     "text": [
      "9\n"
     ]
    }
   ],
   "source": [
    "# menggunakan if/else statement di dalam fungsi lambda\n",
    "lebih_besar = lambda x, y: x if x > y else y\n",
    "hasil = lebih_besar(5, 9)\n",
    "print(hasil)"
   ]
  },
  {
   "cell_type": "markdown",
   "metadata": {},
   "source": [
    "### Returning a Lambda"
   ]
  },
  {
   "cell_type": "code",
   "execution_count": 29,
   "metadata": {},
   "outputs": [
    {
     "name": "stdout",
     "output_type": "stream",
     "text": [
      "10\n",
      "15\n"
     ]
    }
   ],
   "source": [
    "# mengembalikan fungsi lambda dari fungsi lain\n",
    "def my_func(n):\n",
    "    return lambda x : x *  n\n",
    "doubler = my_func(2)\n",
    "print(doubler(5))\n",
    "tripler = my_func(3)\n",
    "print(tripler(5))"
   ]
  },
  {
   "cell_type": "markdown",
   "metadata": {},
   "source": [
    "### Latihan H2"
   ]
  },
  {
   "cell_type": "code",
   "execution_count": 30,
   "metadata": {},
   "outputs": [
    {
     "data": {
      "text/plain": [
       "<function __main__.<lambda>(x)>"
      ]
     },
     "execution_count": 30,
     "metadata": {},
     "output_type": "execute_result"
    }
   ],
   "source": [
    "# 1. Fill in the Blanks:\n",
    "lambda x : True if x > 50 else False"
   ]
  },
  {
   "cell_type": "code",
   "execution_count": 33,
   "metadata": {},
   "outputs": [
    {
     "name": "stdout",
     "output_type": "stream",
     "text": [
      "86.0\n"
     ]
    }
   ],
   "source": [
    "# 2. Degree Conversion:\n",
    "def calcius(n):\n",
    "    return lambda : (9/5)*n + 32\n",
    "\n",
    "fahrenheit = calcius(30)\n",
    "print(fahrenheit())"
   ]
  },
  {
   "cell_type": "markdown",
   "metadata": {},
   "source": [
    "# H3-Map, Filter, and Reduce"
   ]
  },
  {
   "cell_type": "markdown",
   "metadata": {},
   "source": [
    "### Map Without Lambdas"
   ]
  },
  {
   "cell_type": "code",
   "execution_count": 35,
   "metadata": {},
   "outputs": [
    {
     "name": "stdout",
     "output_type": "stream",
     "text": [
      "<map object at 0x000000E257C58788>\n",
      "[54.5, 56.480000000000004, 59.0, 48.56]\n"
     ]
    }
   ],
   "source": [
    "# menggunakan fungsi map tanpa lambda\n",
    "def convertDeg(C):\n",
    "    return (9/5) * C + 32\n",
    "\n",
    "suhu = [12.5, 13.6, 15, 9.2]\n",
    "konversi_suhu = map(convertDeg, suhu)\n",
    "print(konversi_suhu)\n",
    "\n",
    "konversi_suhu = list(konversi_suhu)\n",
    "print(konversi_suhu)"
   ]
  },
  {
   "cell_type": "markdown",
   "metadata": {},
   "source": [
    "### Map with Lambdas"
   ]
  },
  {
   "cell_type": "code",
   "execution_count": 36,
   "metadata": {},
   "outputs": [
    {
     "name": "stdout",
     "output_type": "stream",
     "text": [
      "[54.5, 56.480000000000004, 59.0, 48.56]\n"
     ]
    }
   ],
   "source": [
    "# menggunakan fungsi map dengan lambda\n",
    "suhu = [12.5, 13.6, 15, 9.2]\n",
    "konversi_suhu = list(map(lambda C : (9/5) * C + 32, suhu))\n",
    "print(konversi_suhu)"
   ]
  },
  {
   "cell_type": "markdown",
   "metadata": {},
   "source": [
    "### Filter Without Lambdas"
   ]
  },
  {
   "cell_type": "code",
   "execution_count": 37,
   "metadata": {},
   "outputs": [
    {
     "name": "stdout",
     "output_type": "stream",
     "text": [
      "<filter object at 0x000000E257E67A08>\n",
      "[13.6, 15]\n"
     ]
    }
   ],
   "source": [
    "# menggunakan fungsi filter tanpa fungsi lambda\n",
    "def filterTemps(C):\n",
    "    konversi = (9/5) * C + 32\n",
    "    return True if konversi > 55 else False\n",
    "\n",
    "suhu = [12.5, 13.6, 15, 9.2]\n",
    "filter_suhu = filter(filterTemps, suhu)\n",
    "print(filter_suhu)\n",
    "filter_suhu = list(filter_suhu)\n",
    "print(filter_suhu)"
   ]
  },
  {
   "cell_type": "markdown",
   "metadata": {},
   "source": [
    "### Filter with Lambdas"
   ]
  },
  {
   "cell_type": "code",
   "execution_count": 38,
   "metadata": {},
   "outputs": [
    {
     "name": "stdout",
     "output_type": "stream",
     "text": [
      "[13.6, 15]\n"
     ]
    }
   ],
   "source": [
    "# menggunakan fungsi filter dengan fungsi lambda\n",
    "suhu = [12.5, 13.6, 15, 9.2]\n",
    "filter_suhu = list(filter(lambda C : True if (9/5) * C + 32 > 55 else False, suhu))\n",
    "print(filter_suhu)"
   ]
  },
  {
   "cell_type": "markdown",
   "metadata": {},
   "source": [
    "### Using Reduce"
   ]
  },
  {
   "cell_type": "code",
   "execution_count": 39,
   "metadata": {},
   "outputs": [
    {
     "name": "stdout",
     "output_type": "stream",
     "text": [
      "24\n"
     ]
    }
   ],
   "source": [
    "# cara menggunakan fungsi reduce\n",
    "from functools import reduce\n",
    "bilangan = [1, 2, 3, 4]\n",
    "hasil = reduce(lambda a, b : a * b, bilangan)\n",
    "print(hasil)"
   ]
  },
  {
   "cell_type": "markdown",
   "metadata": {},
   "source": [
    "### Latihan H3"
   ]
  },
  {
   "cell_type": "code",
   "execution_count": 40,
   "metadata": {},
   "outputs": [
    {
     "name": "stdout",
     "output_type": "stream",
     "text": [
      "['Vide', 'Zaki', 'Joko Wanabo']\n"
     ]
    }
   ],
   "source": [
    "# 1. Mapping Names:\n",
    "nama = ['vide', 'ZAKI', 'joko wanabo']\n",
    "ubah_nama = list(map(lambda x : x.title(), nama))\n",
    "print(ubah_nama)"
   ]
  },
  {
   "cell_type": "code",
   "execution_count": 8,
   "metadata": {},
   "outputs": [
    {
     "name": "stdout",
     "output_type": "stream",
     "text": [
      "['Vide', 'Joko']\n"
     ]
    }
   ],
   "source": [
    "# 2. Filter Names:\n",
    "nama = ['Amanda', 'Vide', 'abby', 'Joko', 'Adam']\n",
    "filter_nama = list(filter(lambda N : True if N[0].upper() != 'A' else False, nama))\n",
    "print(filter_nama)"
   ]
  },
  {
   "cell_type": "markdown",
   "metadata": {},
   "source": [
    "# H4-Recursive Functions and Memoization"
   ]
  },
  {
   "cell_type": "markdown",
   "metadata": {},
   "source": [
    "### Writing a Factorial Function "
   ]
  },
  {
   "cell_type": "code",
   "execution_count": 1,
   "metadata": {},
   "outputs": [
    {
     "name": "stdout",
     "output_type": "stream",
     "text": [
      "120\n"
     ]
    }
   ],
   "source": [
    "# menulis sebuah factorisl menggunakan resercusive function\n",
    "def factorial(n):\n",
    "    if n <= 1:\n",
    "        return 1\n",
    "    else:\n",
    "        return factorial(n-1) * n\n",
    "    \n",
    "print(factorial(5))    # hasilnya 5*4*3*2*1 = 120"
   ]
  },
  {
   "cell_type": "markdown",
   "metadata": {},
   "source": [
    "### The Fibonacci Sequence"
   ]
  },
  {
   "cell_type": "code",
   "execution_count": 2,
   "metadata": {},
   "outputs": [
    {
     "name": "stdout",
     "output_type": "stream",
     "text": [
      "5\n"
     ]
    }
   ],
   "source": [
    "# menulis resercutive fibonacci sequence\n",
    "def fib(n):\n",
    "    if n <=1:\n",
    "        return n\n",
    "    else:\n",
    "        return fib(n-1) + fib(n-2)\n",
    "    \n",
    "print(fib(5))"
   ]
  },
  {
   "cell_type": "markdown",
   "metadata": {},
   "source": [
    "### Using Memoization"
   ]
  },
  {
   "cell_type": "code",
   "execution_count": 3,
   "metadata": {},
   "outputs": [
    {
     "name": "stdout",
     "output_type": "stream",
     "text": [
      "12586269025\n"
     ]
    }
   ],
   "source": [
    "# menggunakan memoization  dengan fibonacci sequence\n",
    "cache = {}\n",
    "def fib(n):\n",
    "    if n in cache:\n",
    "        return cache[n]\n",
    "    hasil = 0\n",
    "    # base case\n",
    "    if n <= 1:\n",
    "        hasil = n\n",
    "    else:\n",
    "        hasil = fib(n-1) + fib(n-2)\n",
    "    cache[n] = hasil    # menyimpan hasil ke dalam dictionary\n",
    "    return hasil\n",
    "\n",
    "print(fib(50))"
   ]
  },
  {
   "cell_type": "markdown",
   "metadata": {},
   "source": [
    "### Using @lru_cache"
   ]
  },
  {
   "cell_type": "code",
   "execution_count": 4,
   "metadata": {},
   "outputs": [
    {
     "data": {
      "text/plain": [
       "12586269025"
      ]
     },
     "execution_count": 4,
     "metadata": {},
     "output_type": "execute_result"
    }
   ],
   "source": [
    "# menggunakan @ltu_cache (python's default moization)\n",
    "from functools import lru_cache\n",
    "@lru_cache()\n",
    "def fib(n):\n",
    "    if n <= 1:\n",
    "        return n\n",
    "    else:\n",
    "        return fib(n-1) + fib(n-2)\n",
    "    \n",
    "fib(50)"
   ]
  },
  {
   "cell_type": "markdown",
   "metadata": {},
   "source": [
    "### Latihan H4"
   ]
  },
  {
   "cell_type": "code",
   "execution_count": 5,
   "metadata": {},
   "outputs": [
    {
     "data": {
      "text/plain": [
       "59425114757512643212875125"
      ]
     },
     "execution_count": 5,
     "metadata": {},
     "output_type": "execute_result"
    }
   ],
   "source": [
    "# 1. Factorial Caching:\n",
    "from functools import lru_cache\n",
    "@lru_cache()\n",
    "def fib(n):\n",
    "    if n <= 1:\n",
    "        return n\n",
    "    else:\n",
    "        return fib(n-1) + fib(n-2)\n",
    "    \n",
    "fib(125)"
   ]
  }
 ],
 "metadata": {
  "kernelspec": {
   "display_name": "Python 3",
   "language": "python",
   "name": "python3"
  },
  "language_info": {
   "codemirror_mode": {
    "name": "ipython",
    "version": 3
   },
   "file_extension": ".py",
   "mimetype": "text/x-python",
   "name": "python",
   "nbconvert_exporter": "python",
   "pygments_lexer": "ipython3",
   "version": "3.7.6"
  }
 },
 "nbformat": 4,
 "nbformat_minor": 4
}

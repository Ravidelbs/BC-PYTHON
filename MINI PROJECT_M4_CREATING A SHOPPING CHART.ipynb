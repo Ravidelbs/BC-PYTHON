{
 "cells": [
  {
   "cell_type": "markdown",
   "metadata": {},
   "source": [
    "# Shopping Cart"
   ]
  },
  {
   "cell_type": "code",
   "execution_count": 1,
   "metadata": {},
   "outputs": [
    {
     "name": "stdout",
     "output_type": "stream",
     "text": [
      "Ini dia daftar list belanjaan anda:\n",
      "- Baju\n",
      "- Celana\n",
      "- Sepatu\n"
     ]
    }
   ],
   "source": [
    "# mengimport fungsi yang dibutuhkan\n",
    "from IPython.display import clear_output\n",
    "\n",
    "# variable list global\n",
    "belanja = []\n",
    "\n",
    "# membuat fungsi tambah item ke belanja\n",
    "def addItem(item):\n",
    "    clear_output()\n",
    "    belanja.append(item)\n",
    "    print('{} sudah ditambahkan'.format(item))\n",
    "\n",
    "# membuat fungsi menghapus item pada belanja\n",
    "def removeItem(item):\n",
    "    clear_output()\n",
    "    try:\n",
    "        belanja.remove(item)\n",
    "        print('{} sudah dihapus'.format(item))\n",
    "    except:\n",
    "        print('maaf nama iem tidak ada di list')\n",
    "\n",
    "# membuat fungsi untuk menampilkan isi item belanja\n",
    "def showBelanja():\n",
    "    clear_output()\n",
    "    if belanja:\n",
    "        print('Ini dia daftar list belanjaan anda:')\n",
    "        for item in belanja:\n",
    "            print('- {}'.format(item))\n",
    "    else:\n",
    "        print('List daftar belanjaan anda belum ada')\n",
    "\n",
    "# membuat fungsi untuk menghapus seluruh daftar item list\n",
    "def clearBelanja():\n",
    "    clear_output()\n",
    "    belanja.clear()\n",
    "    print('Daftar list item belanjaan anda kosong')\n",
    "\n",
    "# membuat fungsi utama untuk loop dan kelaur dari program belanja\n",
    "def main():\n",
    "    selesai = False\n",
    "    while not selesai:\n",
    "        jawab = input('quit/add/remove/show/clear: ').lower()\n",
    "        # kasus dasar\n",
    "        if jawab == 'quit':\n",
    "            print('Terimakasih telah memakai program kami.')\n",
    "            showBelanja()\n",
    "            selesai = True\n",
    "        elif jawab == 'add':\n",
    "            item = input('Tambahkan item belanja: ').title()\n",
    "            addItem(item)\n",
    "        elif jawab == 'remove':\n",
    "            showBelanja()\n",
    "            item = input('Tuliskan item yang akan anda hapus: ').title()\n",
    "            removeItem(item)\n",
    "        elif jawab == 'show':\n",
    "            showBelanja()\n",
    "        elif jawab == 'clear':\n",
    "            clearBelanja()\n",
    "        else:\n",
    "            print('Maaf option tersebut tidak termasuk dalam pilihan')\n",
    "            \n",
    "main()    # menjalankan program"
   ]
  }
 ],
 "metadata": {
  "kernelspec": {
   "display_name": "Python 3",
   "language": "python",
   "name": "python3"
  },
  "language_info": {
   "codemirror_mode": {
    "name": "ipython",
    "version": 3
   },
   "file_extension": ".py",
   "mimetype": "text/x-python",
   "name": "python",
   "nbconvert_exporter": "python",
   "pygments_lexer": "ipython3",
   "version": "3.7.6"
  }
 },
 "nbformat": 4,
 "nbformat_minor": 4
}

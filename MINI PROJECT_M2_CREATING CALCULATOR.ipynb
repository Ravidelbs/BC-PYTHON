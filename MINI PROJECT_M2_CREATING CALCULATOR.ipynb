{
 "cells": [
  {
   "cell_type": "markdown",
   "metadata": {},
   "source": [
    "# Creating Calculator"
   ]
  },
  {
   "cell_type": "code",
   "execution_count": 9,
   "metadata": {},
   "outputs": [
    {
     "name": "stdout",
     "output_type": "stream",
     "text": [
      "Pilih kalkulasi berikut (tambah, kurang, bagi, kali): tambah\n",
      "Anda memilih tambah\n",
      "Masukkan angka pertama: 12\n",
      "Masukkan angka kedua: d\n",
      "Error: anda tidak memasukkan angka. Silahkan ulang kembali!\n"
     ]
    }
   ],
   "source": [
    "# step 1: Tanyakan kalkulasi apa yang akan dilakukan\n",
    "operasi = input('Pilih kalkulasi berikut (tambah, kurang, bagi, kali): ').lower()\n",
    "print('Anda memilih {}'.format(operasi))\n",
    "\n",
    "# step 2: Memasukkan angka yang akan dilakukan kalkulasi\n",
    "num1 = input('Masukkan angka pertama: ')\n",
    "num2 = input('Masukkan angka kedua: ')\n",
    "\n",
    "# step 3: Atur try/except untuk melakukan kalkulasi\n",
    "try:\n",
    "    num1 = float(num1)\n",
    "    num2 = float(num2)\n",
    "    if operasi == 'tambah':\n",
    "        hasil = num1 + num2\n",
    "        print('{} + {} = {}'.format(num1, num2, hasil))\n",
    "    elif operasi == 'kurang':\n",
    "        hasil = num1 - num2\n",
    "        print('{} - {} = {}'.format(num1, num2, hasil))\n",
    "    elif operasi == 'bagi':\n",
    "        hasil = num1 / num2\n",
    "        print('{} : {} = {}'.format(num1, num2, hasil))\n",
    "    elif operasi == 'kali':\n",
    "        hasil = num1 * num2\n",
    "        print('{} x {} = {}'.format(num1, num2, hasil))\n",
    "    else:\n",
    "        print('Maaf, {} bukan sebuah opsi kalkulasi'.format(operasi))\n",
    "except:\n",
    "    print('Error: anda tidak memasukkan angka. Silahkan ulang kembali!')"
   ]
  }
 ],
 "metadata": {
  "kernelspec": {
   "display_name": "Python 3",
   "language": "python",
   "name": "python3"
  },
  "language_info": {
   "codemirror_mode": {
    "name": "ipython",
    "version": 3
   },
   "file_extension": ".py",
   "mimetype": "text/x-python",
   "name": "python",
   "nbconvert_exporter": "python",
   "pygments_lexer": "ipython3",
   "version": "3.7.6"
  }
 },
 "nbformat": 4,
 "nbformat_minor": 4
}

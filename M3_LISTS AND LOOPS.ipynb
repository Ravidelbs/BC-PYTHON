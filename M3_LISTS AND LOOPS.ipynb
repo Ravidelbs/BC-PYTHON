{
 "cells": [
  {
   "cell_type": "markdown",
   "metadata": {},
   "source": [
    "# H1-Lists"
   ]
  },
  {
   "cell_type": "markdown",
   "metadata": {},
   "source": [
    "- Declaring a List of Numbers"
   ]
  },
  {
   "cell_type": "code",
   "execution_count": 1,
   "metadata": {},
   "outputs": [
    {
     "name": "stdout",
     "output_type": "stream",
     "text": [
      "[1, 2, 3, 4, 5.5]\n"
     ]
    }
   ],
   "source": [
    "# mendeklarasikan nilai list dengan angka\n",
    "num = [1, 2, 3, 4, 5.5]\n",
    "print(num)"
   ]
  },
  {
   "cell_type": "markdown",
   "metadata": {},
   "source": [
    "- Accessing Elements Within a List"
   ]
  },
  {
   "cell_type": "code",
   "execution_count": 2,
   "metadata": {},
   "outputs": [
    {
     "name": "stdout",
     "output_type": "stream",
     "text": [
      "2\n",
      "3\n"
     ]
    }
   ],
   "source": [
    "# mengakses element pada list\n",
    "print(num[1])        # mengakses list pada index 1\n",
    "num = num[2]         # mengganti variabe num menjadi num index 2\n",
    "print(num)"
   ]
  },
  {
   "cell_type": "markdown",
   "metadata": {},
   "source": [
    "- Declaring a List of Mixed Data Type"
   ]
  },
  {
   "cell_type": "code",
   "execution_count": 3,
   "metadata": {},
   "outputs": [
    {
     "name": "stdout",
     "output_type": "stream",
     "text": [
      "[5.3, 'sepeda', True]\n"
     ]
    }
   ],
   "source": [
    "# mendeklarasikan nilai list dengan type data campuran\n",
    "num = 5.3\n",
    "data = [num, 'sepeda', True]\n",
    "print(data)"
   ]
  },
  {
   "cell_type": "markdown",
   "metadata": {},
   "source": [
    "- Lists Within Lists"
   ]
  },
  {
   "cell_type": "code",
   "execution_count": 4,
   "metadata": {},
   "outputs": [
    {
     "name": "stdout",
     "output_type": "stream",
     "text": [
      "[3, 'buku', [24, 'hallo'], True]\n",
      "[24, 'hallo']\n"
     ]
    }
   ],
   "source": [
    "# membuat list di dalam list\n",
    "data = [3, 'buku', [24, 'hallo'], True]\n",
    "print(data)\n",
    "print(data[2])"
   ]
  },
  {
   "cell_type": "markdown",
   "metadata": {},
   "source": [
    "- Accessing Lists Within Lists"
   ]
  },
  {
   "cell_type": "code",
   "execution_count": 5,
   "metadata": {},
   "outputs": [
    {
     "name": "stdout",
     "output_type": "stream",
     "text": [
      "24\n",
      "k\n",
      "hallo\n"
     ]
    }
   ],
   "source": [
    "# mengakses list di dalam list\n",
    "print(data[2][0])\n",
    "print(data[1][2])\n",
    "inner_list = data[2]\n",
    "print(inner_list[1])"
   ]
  },
  {
   "cell_type": "markdown",
   "metadata": {},
   "source": [
    "- Changing Values in a List"
   ]
  },
  {
   "cell_type": "code",
   "execution_count": 6,
   "metadata": {},
   "outputs": [
    {
     "name": "stdout",
     "output_type": "stream",
     "text": [
      "[1, 2, 3, 4, 5]\n",
      "[6, 2, 3, 4, 5]\n"
     ]
    }
   ],
   "source": [
    "# mengganti nilai yang sudah ada pada list\n",
    "data = [1, 2, 3, 4, 5]\n",
    "print(data)\n",
    "data[0] = 6             # mengganti nilai list index 0 menjadi 6\n",
    "print(data)"
   ]
  },
  {
   "cell_type": "markdown",
   "metadata": {},
   "source": [
    "- Variable Storage"
   ]
  },
  {
   "cell_type": "code",
   "execution_count": 7,
   "metadata": {},
   "outputs": [
    {
     "name": "stdout",
     "output_type": "stream",
     "text": [
      "a: [5, 10]\t b: [5, 10]\n",
      "Lokasi a[0]: 140734575845904\t Lokasi b[0]: 140734575845904\n",
      "a: [20, 10]\t b: [20, 10]\n"
     ]
    }
   ],
   "source": [
    "# memahami bagaimana list disimpan di dalam memori\n",
    "a = [5, 10]\n",
    "b = a\n",
    "print('a: {}\\t b: {}'.format(a, b))\n",
    "print('Lokasi a[0]: {}\\t Lokasi b[0]: {}'.format(id(a[0]), id(b[0])))\n",
    "a[0] = 20\n",
    "print('a: {}\\t b: {}'.format(a, b))"
   ]
  },
  {
   "cell_type": "markdown",
   "metadata": {},
   "source": [
    "- Copying a List"
   ]
  },
  {
   "cell_type": "code",
   "execution_count": 8,
   "metadata": {},
   "outputs": [
    {
     "name": "stdout",
     "output_type": "stream",
     "text": [
      "data: [10, 2, 3, 4, 5]\t data_copy: [1, 2, 3, 4, 5]\n"
     ]
    }
   ],
   "source": [
    "# menggunakan [:] untuk meng-copy list\n",
    "data = [1, 2, 3, 4, 5]\n",
    "data_copy = data[:]\n",
    "data[0] = 10\n",
    "print('data: {}\\t data_copy: {}'.format(data, data_copy))"
   ]
  },
  {
   "cell_type": "code",
   "execution_count": 9,
   "metadata": {},
   "outputs": [
    {
     "name": "stdout",
     "output_type": "stream",
     "text": [
      "angka: [3, 2, 3]\t angka_copy: [1, 2, 3]\n"
     ]
    }
   ],
   "source": [
    "# menggunakan method .copy()\n",
    "angka = [1, 2, 3]\n",
    "angka_copy = angka.copy()\n",
    "angka[0] = 3\n",
    "print('angka: {}\\t angka_copy: {}'.format(angka, angka_copy))"
   ]
  },
  {
   "cell_type": "markdown",
   "metadata": {},
   "source": [
    "- Latihan H1"
   ]
  },
  {
   "cell_type": "code",
   "execution_count": 10,
   "metadata": {
    "scrolled": true
   },
   "outputs": [
    {
     "name": "stdout",
     "output_type": "stream",
     "text": [
      "Hobi saya adalah berenang\n"
     ]
    }
   ],
   "source": [
    "# 1. Sports:\n",
    "list_ku = [10, 'toyota', 'berenang', True]\n",
    "print('Hobi saya adalah {}'.format(list_ku[2]))"
   ]
  },
  {
   "cell_type": "code",
   "execution_count": 11,
   "metadata": {},
   "outputs": [
    {
     "name": "stdout",
     "output_type": "stream",
     "text": [
      "Huruf awal dari list nama yaitu: V, J, S, K\n"
     ]
    }
   ],
   "source": [
    "# 2. First Character:\n",
    "nama = ['Vide', 'Joko', 'Santos', 'Kalera']\n",
    "print('Huruf awal dari list nama yaitu: {}, {}, {}, {}'.format(nama[0][0], nama[1][0], nama[2][0], nama[3][0]))"
   ]
  },
  {
   "cell_type": "markdown",
   "metadata": {},
   "source": [
    "# H2-For Loops"
   ]
  },
  {
   "cell_type": "markdown",
   "metadata": {},
   "source": [
    "- Writing a For Loop"
   ]
  },
  {
   "cell_type": "code",
   "execution_count": 12,
   "metadata": {},
   "outputs": [
    {
     "name": "stdout",
     "output_type": "stream",
     "text": [
      "value: 0\n",
      "value: 1\n",
      "value: 2\n",
      "value: 3\n",
      "value: 4\n"
     ]
    }
   ],
   "source": [
    "# menulis for loop\n",
    "for num in range(5):\n",
    "    print('value: {}'.format(num))"
   ]
  },
  {
   "cell_type": "markdown",
   "metadata": {},
   "source": [
    "- Range()"
   ]
  },
  {
   "cell_type": "code",
   "execution_count": 13,
   "metadata": {},
   "outputs": [
    {
     "name": "stdout",
     "output_type": "stream",
     "text": [
      "value: 2\n",
      "value: 4\n",
      "value: 6\n",
      "value: 8\n"
     ]
    }
   ],
   "source": [
    "# membuat fungsi range() mencakup start, stop dan step\n",
    "for num in range(2, 10, 2):   # start:2, stop:10, step:2\n",
    "    print('value: {}'.format(num))"
   ]
  },
  {
   "cell_type": "markdown",
   "metadata": {},
   "source": [
    "- Looping by Element"
   ]
  },
  {
   "cell_type": "code",
   "execution_count": 14,
   "metadata": {},
   "outputs": [
    {
     "name": "stdout",
     "output_type": "stream",
     "text": [
      "karakternya: v\n",
      "karakternya: i\n",
      "karakternya: d\n",
      "karakternya: e\n",
      "karakternya:  \n",
      "karakternya: l\n",
      "karakternya: u\n",
      "karakternya: b\n",
      "karakternya: i\n",
      "karakternya: s\n"
     ]
    }
   ],
   "source": [
    "# mencetak semua karakter huruf pada suatu string\n",
    "nama = 'vide lubis'\n",
    "for huruf in nama:\n",
    "    print('karakternya: {}'.format(huruf))"
   ]
  },
  {
   "cell_type": "markdown",
   "metadata": {},
   "source": [
    "- Continue Statement"
   ]
  },
  {
   "cell_type": "code",
   "execution_count": 15,
   "metadata": {},
   "outputs": [
    {
     "name": "stdout",
     "output_type": "stream",
     "text": [
      "0\n",
      "1\n",
      "2\n",
      "4\n"
     ]
    }
   ],
   "source": [
    "# menggunakan continue statement di dalam for loop\n",
    "for num in range(5):\n",
    "    if num == 3:\n",
    "        continue\n",
    "    print(num)"
   ]
  },
  {
   "cell_type": "markdown",
   "metadata": {},
   "source": [
    "- Break Statement"
   ]
  },
  {
   "cell_type": "code",
   "execution_count": 16,
   "metadata": {},
   "outputs": [
    {
     "name": "stdout",
     "output_type": "stream",
     "text": [
      "0\n",
      "1\n",
      "2\n"
     ]
    }
   ],
   "source": [
    "# memberhentikan looping dengan kata kunci 'break'\n",
    "for num in range(5):\n",
    "    if num == 3:\n",
    "        break\n",
    "    print(num)"
   ]
  },
  {
   "cell_type": "markdown",
   "metadata": {},
   "source": [
    "- Pass Statement"
   ]
  },
  {
   "cell_type": "code",
   "execution_count": 17,
   "metadata": {},
   "outputs": [],
   "source": [
    "# melewati proses looping dengan kata kunci 'pass'\n",
    "for num in range(5):\n",
    "    # tambahkan kode disini jika ingin mencetaknya\n",
    "    pass"
   ]
  },
  {
   "cell_type": "markdown",
   "metadata": {},
   "source": [
    "- Latihan H2"
   ]
  },
  {
   "cell_type": "code",
   "execution_count": 18,
   "metadata": {},
   "outputs": [
    {
     "name": "stdout",
     "output_type": "stream",
     "text": [
      "3 6 9 12 15 18 21 24 27 30 33 36 39 42 45 48 51 54 57 60 63 66 69 72 75 78 81 84 87 90 93 96 99 "
     ]
    }
   ],
   "source": [
    "# 1. Divisible by Three:\n",
    "for num in range(1,100):\n",
    "    if num % 3 == 0:\n",
    "        print(num, end=(' '))"
   ]
  },
  {
   "cell_type": "code",
   "execution_count": 19,
   "metadata": {},
   "outputs": [
    {
     "name": "stdout",
     "output_type": "stream",
     "text": [
      "Masukkan sebuah kata: sepeda\n",
      "e e a "
     ]
    }
   ],
   "source": [
    "# 2. Only Vowels:\n",
    "kata = input('Masukkan sebuah kata: ').lower()\n",
    "vowels = ['a', 'i', 'u', 'e', 'o']\n",
    "for i in kata:\n",
    "    if i in vowels:\n",
    "        print(i, end=(' '))"
   ]
  },
  {
   "cell_type": "markdown",
   "metadata": {},
   "source": [
    "# H3-While Loop"
   ]
  },
  {
   "cell_type": "markdown",
   "metadata": {},
   "source": [
    "- Writing a While Loop"
   ]
  },
  {
   "cell_type": "code",
   "execution_count": 20,
   "metadata": {},
   "outputs": [
    {
     "name": "stdout",
     "output_type": "stream",
     "text": [
      "10\n",
      "9\n",
      "8\n",
      "7\n",
      "6\n",
      "5\n",
      "4\n",
      "3\n",
      "2\n",
      "1\n"
     ]
    }
   ],
   "source": [
    "# menulis while loop\n",
    "angka = 10\n",
    "while angka > 0:\n",
    "    print(angka)\n",
    "    angka -= 1"
   ]
  },
  {
   "cell_type": "markdown",
   "metadata": {},
   "source": [
    "- Nested Loop"
   ]
  },
  {
   "cell_type": "code",
   "execution_count": 21,
   "metadata": {},
   "outputs": [
    {
     "name": "stdout",
     "output_type": "stream",
     "text": [
      "0 0\n",
      "0 1\n",
      "0 2\n",
      "1 0\n",
      "1 1\n",
      "1 2\n"
     ]
    }
   ],
   "source": [
    "# menggunakan dua atau lebih loop bersamaan atau loop di dalam loop\n",
    "for i in range(2):       # di luar loop\n",
    "    for j in range(3):   # di dalam loop\n",
    "        print(i, j)"
   ]
  },
  {
   "cell_type": "markdown",
   "metadata": {},
   "source": [
    "- Latihan H3"
   ]
  },
  {
   "cell_type": "code",
   "execution_count": 27,
   "metadata": {},
   "outputs": [
    {
     "name": "stdout",
     "output_type": "stream",
     "text": [
      "masukkan sebuah kata: kali\n",
      "masukkan sebuah kata: kota\n",
      "masukkan sebuah kata: quit\n"
     ]
    }
   ],
   "source": [
    "# 1. User Input:\n",
    "kata = []\n",
    "while 'quit' not in kata:\n",
    "    kata = input('masukkan sebuah kata: ').lower()  "
   ]
  },
  {
   "cell_type": "code",
   "execution_count": 26,
   "metadata": {},
   "outputs": [
    {
     "name": "stdout",
     "output_type": "stream",
     "text": [
      "0\n",
      "1\n",
      "2\n"
     ]
    }
   ],
   "source": [
    "# 2. Double loop:\n",
    "num = 0\n",
    "while num < 1:\n",
    "    for i in range(6):\n",
    "        if i == 3:\n",
    "            break\n",
    "        print(i)\n",
    "    num += 1"
   ]
  },
  {
   "cell_type": "markdown",
   "metadata": {},
   "source": [
    "# H4-Working with Lists"
   ]
  },
  {
   "cell_type": "markdown",
   "metadata": {},
   "source": [
    "- Checking Length"
   ]
  },
  {
   "cell_type": "code",
   "execution_count": 1,
   "metadata": {},
   "outputs": [
    {
     "name": "stdout",
     "output_type": "stream",
     "text": [
      "5\n"
     ]
    }
   ],
   "source": [
    "# mengecek jumlah item di dalam list\n",
    "num = [1, 2, 3, 4, 5]\n",
    "length = len(num)\n",
    "print(length)"
   ]
  },
  {
   "cell_type": "markdown",
   "metadata": {},
   "source": [
    "- Slicing Lists"
   ]
  },
  {
   "cell_type": "code",
   "execution_count": 2,
   "metadata": {},
   "outputs": [
    {
     "name": "stdout",
     "output_type": "stream",
     "text": [
      "[2, 3]\n",
      "[1, 2]\n",
      "[1, 3, 5]\n",
      "[4, 5]\n"
     ]
    }
   ],
   "source": [
    "# mengakses item spesifik pada list dengan slicing\n",
    "print(num[1:3])\n",
    "print(num[:2])\n",
    "print(num[::2])\n",
    "print(num[-2:])"
   ]
  },
  {
   "cell_type": "markdown",
   "metadata": {},
   "source": [
    "- Adding Items with .append() and .insert()"
   ]
  },
  {
   "cell_type": "code",
   "execution_count": 3,
   "metadata": {},
   "outputs": [
    {
     "name": "stdout",
     "output_type": "stream",
     "text": [
      "[10, 20, 30]\n"
     ]
    }
   ],
   "source": [
    "# menambahkan item pada list dengan method .append()\n",
    "nums = [10, 20]\n",
    "nums.append(30)\n",
    "print(nums)"
   ]
  },
  {
   "cell_type": "code",
   "execution_count": 4,
   "metadata": {},
   "outputs": [
    {
     "name": "stdout",
     "output_type": "stream",
     "text": [
      "['kayu', 'bola', 'batu']\n"
     ]
    }
   ],
   "source": [
    "# menambahkan item pada list dengan method .insert()\n",
    "kata = ['bola', 'batu']\n",
    "kata.insert(0, 'kayu')\n",
    "print(kata)"
   ]
  },
  {
   "cell_type": "markdown",
   "metadata": {},
   "source": [
    "- Removing Items with .pop() and .remove()"
   ]
  },
  {
   "cell_type": "code",
   "execution_count": 9,
   "metadata": {},
   "outputs": [
    {
     "name": "stdout",
     "output_type": "stream",
     "text": [
      "[5, 'bola']\n",
      "5\n"
     ]
    }
   ],
   "source": [
    "# menghapus item pada list dengan method .pop()\n",
    "item = [5, 'bola', 'kayu']\n",
    "item.pop()\n",
    "print(item)\n",
    "item_baru = item.pop(0)\n",
    "print(item_baru)"
   ]
  },
  {
   "cell_type": "code",
   "execution_count": 11,
   "metadata": {},
   "outputs": [
    {
     "name": "stdout",
     "output_type": "stream",
     "text": [
      "['andesit', 'gabro', 'marmer']\n"
     ]
    }
   ],
   "source": [
    "# menghapus item pada list dengan method .remove()\n",
    "batuan = ['granit', 'andesit', 'gabro', 'marmer']\n",
    "try:\n",
    "    batuan.remove('granit')\n",
    "except:\n",
    "    print('Anda salah memasukkan item batuan')\n",
    "print(batuan)"
   ]
  },
  {
   "cell_type": "markdown",
   "metadata": {},
   "source": [
    "- Working with Numerical List Data"
   ]
  },
  {
   "cell_type": "code",
   "execution_count": 12,
   "metadata": {},
   "outputs": [
    {
     "name": "stdout",
     "output_type": "stream",
     "text": [
      "5\n",
      "15\n",
      "30\n"
     ]
    }
   ],
   "source": [
    "# menggunakan min(), max(), dan sum()\n",
    "nums = [5, 10, 15]\n",
    "print(min(nums))    # mencari nilai item terkecil\n",
    "print(max(nums))    # mencari nilai item terbesar\n",
    "print(sum(nums))    # menjumlahkan seluruh nilai item"
   ]
  },
  {
   "cell_type": "markdown",
   "metadata": {},
   "source": [
    "- Sorting a List with sorted() and .sort()"
   ]
  },
  {
   "cell_type": "code",
   "execution_count": 13,
   "metadata": {},
   "outputs": [
    {
     "name": "stdout",
     "output_type": "stream",
     "text": [
      "[5, 7, 3, 2] [2, 3, 5, 7]\n"
     ]
    }
   ],
   "source": [
    "# menggunakan sorted() untuk mengrutkan nilai item list\n",
    "nums = [5, 7, 3, 2]\n",
    "nums_terurut = sorted(nums)\n",
    "print(nums, nums_terurut)"
   ]
  },
  {
   "cell_type": "code",
   "execution_count": 14,
   "metadata": {},
   "outputs": [
    {
     "name": "stdout",
     "output_type": "stream",
     "text": [
      "[1, 3, 4, 8, 9]\n"
     ]
    }
   ],
   "source": [
    "# menggunakan .sort() untuk mengurutkan nilai item list\n",
    "nums = [8, 9, 1, 4, 3]\n",
    "nums.sort()\n",
    "print(nums)"
   ]
  },
  {
   "cell_type": "markdown",
   "metadata": {},
   "source": [
    "- Conditional and Lists"
   ]
  },
  {
   "cell_type": "code",
   "execution_count": 15,
   "metadata": {},
   "outputs": [
    {
     "name": "stdout",
     "output_type": "stream",
     "text": [
      "ada di list nama\n",
      "tidak ada di list nama\n"
     ]
    }
   ],
   "source": [
    "# menggunakan conditional statement pada list\n",
    "nama = ['joko', 'wiro', 'gendeng', 'vide']\n",
    "if 'vide' in nama:\n",
    "    print('ada di list nama')\n",
    "if 'roro' not in nama:\n",
    "    print('tidak ada di list nama')"
   ]
  },
  {
   "cell_type": "code",
   "execution_count": 16,
   "metadata": {},
   "outputs": [
    {
     "name": "stdout",
     "output_type": "stream",
     "text": [
      "kosong\n"
     ]
    }
   ],
   "source": [
    "# menggunakan conditional statement untuk melihat list kosong\n",
    "nums = []\n",
    "if not nums:             # sama halnya: if nums == []:\n",
    "    print('kosong')"
   ]
  },
  {
   "cell_type": "markdown",
   "metadata": {},
   "source": [
    "- Loop and Lists"
   ]
  },
  {
   "cell_type": "code",
   "execution_count": 17,
   "metadata": {},
   "outputs": [
    {
     "name": "stdout",
     "output_type": "stream",
     "text": [
      "granit\n",
      "andesit\n",
      "gabro\n",
      "diorit\n"
     ]
    }
   ],
   "source": [
    "# menggunakan for loop untuk mencetak semua item pada list\n",
    "batu = ['granit', 'andesit', 'gabro', 'diorit']\n",
    "for item in batu:\n",
    "    print(item)"
   ]
  },
  {
   "cell_type": "code",
   "execution_count": 18,
   "metadata": {},
   "outputs": [
    {
     "name": "stdout",
     "output_type": "stream",
     "text": [
      "['joko', 'kodo', 'romo']\n"
     ]
    }
   ],
   "source": [
    "# menggunakan while loop untuk menghapus item pada list\n",
    "nama = ['joko', 'kodo', 'romo', 'vide']\n",
    "while 'vide' in nama:\n",
    "    nama.remove('vide')\n",
    "print(nama)"
   ]
  },
  {
   "cell_type": "markdown",
   "metadata": {},
   "source": [
    "- Latihan H4"
   ]
  },
  {
   "cell_type": "code",
   "execution_count": 44,
   "metadata": {},
   "outputs": [
    {
     "name": "stdout",
     "output_type": "stream",
     "text": [
      "['joko', 'kodo', 'romo', 'vide']\n"
     ]
    }
   ],
   "source": [
    "# 1. Remove Duplicates:\n",
    "nama = ['joko', 'kodo', 'romo', 'vide', 'joko', 'romo']\n",
    "nama_not_dup = []\n",
    "for i in nama:\n",
    "    if i not in nama_not_dup:\n",
    "        nama_not_dup.append(i)\n",
    "\n",
    "print(nama_not_dup)"
   ]
  },
  {
   "cell_type": "code",
   "execution_count": 32,
   "metadata": {},
   "outputs": [
    {
     "name": "stdout",
     "output_type": "stream",
     "text": [
      "masukkan sebuah kata: aku\n",
      "aku\n",
      "masukkan sebuah kata: cinta\n",
      "aku\n",
      "cinta\n",
      "masukkan sebuah kata: kamu\n",
      "aku\n",
      "cinta\n",
      "kamu\n",
      "masukkan sebuah kata: quit\n",
      "aku\n",
      "cinta\n",
      "kamu\n",
      "quit\n"
     ]
    }
   ],
   "source": [
    "# 2. User Input:\n",
    "list_kata = []\n",
    "while 'quit' not in list_kata:\n",
    "    kata = input('masukkan sebuah kata: ').lower()\n",
    "    list_kata.append(kata)\n",
    "    for i in list_kata:\n",
    "        print(i)"
   ]
  }
 ],
 "metadata": {
  "kernelspec": {
   "display_name": "Python 3",
   "language": "python",
   "name": "python3"
  },
  "language_info": {
   "codemirror_mode": {
    "name": "ipython",
    "version": 3
   },
   "file_extension": ".py",
   "mimetype": "text/x-python",
   "name": "python",
   "nbconvert_exporter": "python",
   "pygments_lexer": "ipython3",
   "version": "3.7.6"
  }
 },
 "nbformat": 4,
 "nbformat_minor": 4
}
